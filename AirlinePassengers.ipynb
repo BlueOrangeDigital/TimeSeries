{
  "nbformat": 4,
  "nbformat_minor": 0,
  "metadata": {
    "colab": {
      "name": "AirlinePassengers",
      "provenance": [],
      "include_colab_link": true
    },
    "kernelspec": {
      "name": "python3",
      "display_name": "Python 3"
    }
  },
  "cells": [
    {
      "cell_type": "markdown",
      "metadata": {
        "id": "view-in-github",
        "colab_type": "text"
      },
      "source": [
        "<a href=\"https://colab.research.google.com/github/leoquiroa/Prophet/blob/master/AirlinePassengers.ipynb\" target=\"_parent\"><img src=\"https://colab.research.google.com/assets/colab-badge.svg\" alt=\"Open In Colab\"/></a>"
      ]
    },
    {
      "cell_type": "code",
      "metadata": {
        "id": "OQswZvmg6kn8",
        "colab_type": "code",
        "colab": {}
      },
      "source": [
        "# essentials\n",
        "import numpy as np \n",
        "import pandas as pd \n",
        "\n",
        "# visualizations\n",
        "import matplotlib.pyplot as plt\n",
        "import seaborn as sns\n",
        "\n",
        "# time series algorithm\n",
        "from fbprophet import Prophet\n",
        "from fbprophet.diagnostics import performance_metrics\n",
        "\n",
        "# reproducibility\n",
        "np.random.seed(34)\n",
        "\n",
        "# Jupyter magic\n",
        "%reload_ext autoreload\n",
        "%autoreload 2\n",
        "%matplotlib inline\n",
        "\n",
        "sns.set()"
      ],
      "execution_count": 0,
      "outputs": []
    },
    {
      "cell_type": "code",
      "metadata": {
        "id": "FQBxgcXE6mXh",
        "colab_type": "code",
        "colab": {
          "base_uri": "https://localhost:8080/",
          "height": 206
        },
        "outputId": "e57a46d8-4d11-4f5c-a432-da81988894fc"
      },
      "source": [
        "url = 'https://raw.githubusercontent.com/leoquiroa/Prophet/master/data/international-airline-passengers.csv'\n",
        "df_air_orig = pd.read_csv(url, \n",
        "                              nrows=144,\n",
        "                              skiprows = 1, \n",
        "                              names = ['ds', 'y'], \n",
        "                              parse_dates = True )\n",
        "df_air = df_air_orig \n",
        "df_air.head()"
      ],
      "execution_count": 7,
      "outputs": [
        {
          "output_type": "execute_result",
          "data": {
            "text/html": [
              "<div>\n",
              "<style scoped>\n",
              "    .dataframe tbody tr th:only-of-type {\n",
              "        vertical-align: middle;\n",
              "    }\n",
              "\n",
              "    .dataframe tbody tr th {\n",
              "        vertical-align: top;\n",
              "    }\n",
              "\n",
              "    .dataframe thead th {\n",
              "        text-align: right;\n",
              "    }\n",
              "</style>\n",
              "<table border=\"1\" class=\"dataframe\">\n",
              "  <thead>\n",
              "    <tr style=\"text-align: right;\">\n",
              "      <th></th>\n",
              "      <th>ds</th>\n",
              "      <th>y</th>\n",
              "    </tr>\n",
              "  </thead>\n",
              "  <tbody>\n",
              "    <tr>\n",
              "      <th>0</th>\n",
              "      <td>1949-01</td>\n",
              "      <td>112</td>\n",
              "    </tr>\n",
              "    <tr>\n",
              "      <th>1</th>\n",
              "      <td>1949-02</td>\n",
              "      <td>118</td>\n",
              "    </tr>\n",
              "    <tr>\n",
              "      <th>2</th>\n",
              "      <td>1949-03</td>\n",
              "      <td>132</td>\n",
              "    </tr>\n",
              "    <tr>\n",
              "      <th>3</th>\n",
              "      <td>1949-04</td>\n",
              "      <td>129</td>\n",
              "    </tr>\n",
              "    <tr>\n",
              "      <th>4</th>\n",
              "      <td>1949-05</td>\n",
              "      <td>121</td>\n",
              "    </tr>\n",
              "  </tbody>\n",
              "</table>\n",
              "</div>"
            ],
            "text/plain": [
              "        ds    y\n",
              "0  1949-01  112\n",
              "1  1949-02  118\n",
              "2  1949-03  132\n",
              "3  1949-04  129\n",
              "4  1949-05  121"
            ]
          },
          "metadata": {
            "tags": []
          },
          "execution_count": 7
        }
      ]
    },
    {
      "cell_type": "code",
      "metadata": {
        "id": "7qzceXHL827y",
        "colab_type": "code",
        "colab": {
          "base_uri": "https://localhost:8080/",
          "height": 206
        },
        "outputId": "95c8e5e4-019a-4a77-967f-20ff96dde558"
      },
      "source": [
        "df_air.tail()"
      ],
      "execution_count": 21,
      "outputs": [
        {
          "output_type": "execute_result",
          "data": {
            "text/html": [
              "<div>\n",
              "<style scoped>\n",
              "    .dataframe tbody tr th:only-of-type {\n",
              "        vertical-align: middle;\n",
              "    }\n",
              "\n",
              "    .dataframe tbody tr th {\n",
              "        vertical-align: top;\n",
              "    }\n",
              "\n",
              "    .dataframe thead th {\n",
              "        text-align: right;\n",
              "    }\n",
              "</style>\n",
              "<table border=\"1\" class=\"dataframe\">\n",
              "  <thead>\n",
              "    <tr style=\"text-align: right;\">\n",
              "      <th></th>\n",
              "      <th>ds</th>\n",
              "      <th>y</th>\n",
              "    </tr>\n",
              "  </thead>\n",
              "  <tbody>\n",
              "    <tr>\n",
              "      <th>139</th>\n",
              "      <td>1960-08-31</td>\n",
              "      <td>606</td>\n",
              "    </tr>\n",
              "    <tr>\n",
              "      <th>140</th>\n",
              "      <td>1960-09-30</td>\n",
              "      <td>508</td>\n",
              "    </tr>\n",
              "    <tr>\n",
              "      <th>141</th>\n",
              "      <td>1960-10-31</td>\n",
              "      <td>461</td>\n",
              "    </tr>\n",
              "    <tr>\n",
              "      <th>142</th>\n",
              "      <td>1960-11-30</td>\n",
              "      <td>390</td>\n",
              "    </tr>\n",
              "    <tr>\n",
              "      <th>143</th>\n",
              "      <td>1960-12-31</td>\n",
              "      <td>432</td>\n",
              "    </tr>\n",
              "  </tbody>\n",
              "</table>\n",
              "</div>"
            ],
            "text/plain": [
              "            ds    y\n",
              "139 1960-08-31  606\n",
              "140 1960-09-30  508\n",
              "141 1960-10-31  461\n",
              "142 1960-11-30  390\n",
              "143 1960-12-31  432"
            ]
          },
          "metadata": {
            "tags": []
          },
          "execution_count": 21
        }
      ]
    },
    {
      "cell_type": "code",
      "metadata": {
        "id": "gyfuAfs568Gi",
        "colab_type": "code",
        "colab": {
          "base_uri": "https://localhost:8080/",
          "height": 148
        },
        "outputId": "39a3eef3-c637-4c97-bec7-6dc71b04d378"
      },
      "source": [
        "df_air.info()"
      ],
      "execution_count": 8,
      "outputs": [
        {
          "output_type": "stream",
          "text": [
            "<class 'pandas.core.frame.DataFrame'>\n",
            "RangeIndex: 144 entries, 0 to 143\n",
            "Data columns (total 2 columns):\n",
            "ds    144 non-null object\n",
            "y     144 non-null int64\n",
            "dtypes: int64(1), object(1)\n",
            "memory usage: 2.4+ KB\n"
          ],
          "name": "stdout"
        }
      ]
    },
    {
      "cell_type": "code",
      "metadata": {
        "id": "7GCM1v8066Tg",
        "colab_type": "code",
        "colab": {
          "base_uri": "https://localhost:8080/",
          "height": 206
        },
        "outputId": "53b2e766-87ca-49a6-cbeb-e79dbe02d8e5"
      },
      "source": [
        "df_air.tail()"
      ],
      "execution_count": 9,
      "outputs": [
        {
          "output_type": "execute_result",
          "data": {
            "text/html": [
              "<div>\n",
              "<style scoped>\n",
              "    .dataframe tbody tr th:only-of-type {\n",
              "        vertical-align: middle;\n",
              "    }\n",
              "\n",
              "    .dataframe tbody tr th {\n",
              "        vertical-align: top;\n",
              "    }\n",
              "\n",
              "    .dataframe thead th {\n",
              "        text-align: right;\n",
              "    }\n",
              "</style>\n",
              "<table border=\"1\" class=\"dataframe\">\n",
              "  <thead>\n",
              "    <tr style=\"text-align: right;\">\n",
              "      <th></th>\n",
              "      <th>ds</th>\n",
              "      <th>y</th>\n",
              "    </tr>\n",
              "  </thead>\n",
              "  <tbody>\n",
              "    <tr>\n",
              "      <th>139</th>\n",
              "      <td>1960-08</td>\n",
              "      <td>606</td>\n",
              "    </tr>\n",
              "    <tr>\n",
              "      <th>140</th>\n",
              "      <td>1960-09</td>\n",
              "      <td>508</td>\n",
              "    </tr>\n",
              "    <tr>\n",
              "      <th>141</th>\n",
              "      <td>1960-10</td>\n",
              "      <td>461</td>\n",
              "    </tr>\n",
              "    <tr>\n",
              "      <th>142</th>\n",
              "      <td>1960-11</td>\n",
              "      <td>390</td>\n",
              "    </tr>\n",
              "    <tr>\n",
              "      <th>143</th>\n",
              "      <td>1960-12</td>\n",
              "      <td>432</td>\n",
              "    </tr>\n",
              "  </tbody>\n",
              "</table>\n",
              "</div>"
            ],
            "text/plain": [
              "          ds    y\n",
              "139  1960-08  606\n",
              "140  1960-09  508\n",
              "141  1960-10  461\n",
              "142  1960-11  390\n",
              "143  1960-12  432"
            ]
          },
          "metadata": {
            "tags": []
          },
          "execution_count": 9
        }
      ]
    },
    {
      "cell_type": "markdown",
      "metadata": {
        "id": "OdBqMEVC72tD",
        "colab_type": "text"
      },
      "source": [
        "Add last day of the month"
      ]
    },
    {
      "cell_type": "code",
      "metadata": {
        "id": "y4MZpbuh6-4y",
        "colab_type": "code",
        "colab": {}
      },
      "source": [
        "df_air['ds']=pd.to_datetime(df_air['ds'])+pd.tseries.offsets.MonthEnd(0)"
      ],
      "execution_count": 0,
      "outputs": []
    },
    {
      "cell_type": "code",
      "metadata": {
        "id": "hm60xVGh6OAR",
        "colab_type": "code",
        "colab": {
          "base_uri": "https://localhost:8080/",
          "height": 206
        },
        "outputId": "4d4b12ed-92c2-4273-ee63-c625ecedb235"
      },
      "source": [
        "df_air.tail()"
      ],
      "execution_count": 11,
      "outputs": [
        {
          "output_type": "execute_result",
          "data": {
            "text/html": [
              "<div>\n",
              "<style scoped>\n",
              "    .dataframe tbody tr th:only-of-type {\n",
              "        vertical-align: middle;\n",
              "    }\n",
              "\n",
              "    .dataframe tbody tr th {\n",
              "        vertical-align: top;\n",
              "    }\n",
              "\n",
              "    .dataframe thead th {\n",
              "        text-align: right;\n",
              "    }\n",
              "</style>\n",
              "<table border=\"1\" class=\"dataframe\">\n",
              "  <thead>\n",
              "    <tr style=\"text-align: right;\">\n",
              "      <th></th>\n",
              "      <th>ds</th>\n",
              "      <th>y</th>\n",
              "    </tr>\n",
              "  </thead>\n",
              "  <tbody>\n",
              "    <tr>\n",
              "      <th>139</th>\n",
              "      <td>1960-08-31</td>\n",
              "      <td>606</td>\n",
              "    </tr>\n",
              "    <tr>\n",
              "      <th>140</th>\n",
              "      <td>1960-09-30</td>\n",
              "      <td>508</td>\n",
              "    </tr>\n",
              "    <tr>\n",
              "      <th>141</th>\n",
              "      <td>1960-10-31</td>\n",
              "      <td>461</td>\n",
              "    </tr>\n",
              "    <tr>\n",
              "      <th>142</th>\n",
              "      <td>1960-11-30</td>\n",
              "      <td>390</td>\n",
              "    </tr>\n",
              "    <tr>\n",
              "      <th>143</th>\n",
              "      <td>1960-12-31</td>\n",
              "      <td>432</td>\n",
              "    </tr>\n",
              "  </tbody>\n",
              "</table>\n",
              "</div>"
            ],
            "text/plain": [
              "            ds    y\n",
              "139 1960-08-31  606\n",
              "140 1960-09-30  508\n",
              "141 1960-10-31  461\n",
              "142 1960-11-30  390\n",
              "143 1960-12-31  432"
            ]
          },
          "metadata": {
            "tags": []
          },
          "execution_count": 11
        }
      ]
    },
    {
      "cell_type": "code",
      "metadata": {
        "id": "R6iN7zEG7rOB",
        "colab_type": "code",
        "colab": {
          "base_uri": "https://localhost:8080/",
          "height": 36
        },
        "outputId": "34f4002c-f248-41ef-8db9-d61f0c4d6ea1"
      },
      "source": [
        "df_air.shape"
      ],
      "execution_count": 12,
      "outputs": [
        {
          "output_type": "execute_result",
          "data": {
            "text/plain": [
              "(144, 2)"
            ]
          },
          "metadata": {
            "tags": []
          },
          "execution_count": 12
        }
      ]
    },
    {
      "cell_type": "markdown",
      "metadata": {
        "id": "8wO6Oy1v78dr",
        "colab_type": "text"
      },
      "source": [
        "Forecast the last two years."
      ]
    },
    {
      "cell_type": "code",
      "metadata": {
        "id": "Jk4wSgTM793K",
        "colab_type": "code",
        "colab": {
          "base_uri": "https://localhost:8080/",
          "height": 54
        },
        "outputId": "c2c937bd-c216-4d1e-83f4-d9738d0fc17f"
      },
      "source": [
        "train = df_air[:120]\n",
        "test = df_air[120:]\n",
        "print(train.shape)\n",
        "print(test.shape)"
      ],
      "execution_count": 15,
      "outputs": [
        {
          "output_type": "stream",
          "text": [
            "(120, 2)\n",
            "(24, 2)\n"
          ],
          "name": "stdout"
        }
      ]
    },
    {
      "cell_type": "markdown",
      "metadata": {
        "id": "Jw0hqR-F8IY7",
        "colab_type": "text"
      },
      "source": [
        "Let's instantiate a Prophet object and fit it to the training data, using the default Prophet parameters.\n"
      ]
    },
    {
      "cell_type": "code",
      "metadata": {
        "id": "Y0j_iMhu8Hy3",
        "colab_type": "code",
        "colab": {
          "base_uri": "https://localhost:8080/",
          "height": 112
        },
        "outputId": "031d6c26-b956-4c11-edc1-6ef5b3b73d63"
      },
      "source": [
        "m = Prophet()\n",
        "m.fit(train)"
      ],
      "execution_count": 16,
      "outputs": [
        {
          "output_type": "stream",
          "text": [
            "INFO:numexpr.utils:NumExpr defaulting to 2 threads.\n",
            "INFO:fbprophet:Disabling weekly seasonality. Run prophet with weekly_seasonality=True to override this.\n",
            "INFO:fbprophet:Disabling daily seasonality. Run prophet with daily_seasonality=True to override this.\n"
          ],
          "name": "stderr"
        },
        {
          "output_type": "execute_result",
          "data": {
            "text/plain": [
              "<fbprophet.forecaster.Prophet at 0x7fe2b95670f0>"
            ]
          },
          "metadata": {
            "tags": []
          },
          "execution_count": 16
        }
      ]
    },
    {
      "cell_type": "markdown",
      "metadata": {
        "id": "CPR4RAV18PoS",
        "colab_type": "text"
      },
      "source": [
        "Let's make the future data frame and make the predictions. We need to pass freq='m' because we want monthly predictions. The periods is equal to 24 because we want 2 years"
      ]
    },
    {
      "cell_type": "code",
      "metadata": {
        "id": "WMgXPTDi8QhS",
        "colab_type": "code",
        "colab": {
          "base_uri": "https://localhost:8080/",
          "height": 206
        },
        "outputId": "35493437-4d79-4e53-8e0d-3b02d75366c4"
      },
      "source": [
        "future = m.make_future_dataframe(periods=24, freq='m')\n",
        "forecast = m.predict(future)\n",
        "forecast[['ds', 'yhat', 'yhat_lower', 'yhat_upper']"
      ],
      "execution_count": 17,
      "outputs": [
        {
          "output_type": "execute_result",
          "data": {
            "text/html": [
              "<div>\n",
              "<style scoped>\n",
              "    .dataframe tbody tr th:only-of-type {\n",
              "        vertical-align: middle;\n",
              "    }\n",
              "\n",
              "    .dataframe tbody tr th {\n",
              "        vertical-align: top;\n",
              "    }\n",
              "\n",
              "    .dataframe thead th {\n",
              "        text-align: right;\n",
              "    }\n",
              "</style>\n",
              "<table border=\"1\" class=\"dataframe\">\n",
              "  <thead>\n",
              "    <tr style=\"text-align: right;\">\n",
              "      <th></th>\n",
              "      <th>ds</th>\n",
              "      <th>yhat</th>\n",
              "      <th>yhat_lower</th>\n",
              "      <th>yhat_upper</th>\n",
              "    </tr>\n",
              "  </thead>\n",
              "  <tbody>\n",
              "    <tr>\n",
              "      <th>0</th>\n",
              "      <td>1949-01-31</td>\n",
              "      <td>87.140669</td>\n",
              "      <td>64.184483</td>\n",
              "      <td>110.831888</td>\n",
              "    </tr>\n",
              "    <tr>\n",
              "      <th>1</th>\n",
              "      <td>1949-02-28</td>\n",
              "      <td>84.739482</td>\n",
              "      <td>59.188445</td>\n",
              "      <td>108.266599</td>\n",
              "    </tr>\n",
              "    <tr>\n",
              "      <th>2</th>\n",
              "      <td>1949-03-31</td>\n",
              "      <td>116.989800</td>\n",
              "      <td>93.293338</td>\n",
              "      <td>141.518577</td>\n",
              "    </tr>\n",
              "    <tr>\n",
              "      <th>3</th>\n",
              "      <td>1949-04-30</td>\n",
              "      <td>109.632953</td>\n",
              "      <td>85.684457</td>\n",
              "      <td>132.089521</td>\n",
              "    </tr>\n",
              "    <tr>\n",
              "      <th>4</th>\n",
              "      <td>1949-05-31</td>\n",
              "      <td>110.956821</td>\n",
              "      <td>85.457477</td>\n",
              "      <td>135.077774</td>\n",
              "    </tr>\n",
              "  </tbody>\n",
              "</table>\n",
              "</div>"
            ],
            "text/plain": [
              "          ds        yhat  yhat_lower  yhat_upper\n",
              "0 1949-01-31   87.140669   64.184483  110.831888\n",
              "1 1949-02-28   84.739482   59.188445  108.266599\n",
              "2 1949-03-31  116.989800   93.293338  141.518577\n",
              "3 1949-04-30  109.632953   85.684457  132.089521\n",
              "4 1949-05-31  110.956821   85.457477  135.077774"
            ]
          },
          "metadata": {
            "tags": []
          },
          "execution_count": 17
        }
      ]
    },
    {
      "cell_type": "code",
      "metadata": {
        "id": "-g80e3lB8ovJ",
        "colab_type": "code",
        "colab": {
          "base_uri": "https://localhost:8080/",
          "height": 206
        },
        "outputId": "6527e8f3-e6c9-4852-9f41-7ce18f3a4097"
      },
      "source": [
        "forecast[['ds', 'yhat', 'yhat_lower', 'yhat_upper']].head()"
      ],
      "execution_count": 18,
      "outputs": [
        {
          "output_type": "execute_result",
          "data": {
            "text/html": [
              "<div>\n",
              "<style scoped>\n",
              "    .dataframe tbody tr th:only-of-type {\n",
              "        vertical-align: middle;\n",
              "    }\n",
              "\n",
              "    .dataframe tbody tr th {\n",
              "        vertical-align: top;\n",
              "    }\n",
              "\n",
              "    .dataframe thead th {\n",
              "        text-align: right;\n",
              "    }\n",
              "</style>\n",
              "<table border=\"1\" class=\"dataframe\">\n",
              "  <thead>\n",
              "    <tr style=\"text-align: right;\">\n",
              "      <th></th>\n",
              "      <th>ds</th>\n",
              "      <th>yhat</th>\n",
              "      <th>yhat_lower</th>\n",
              "      <th>yhat_upper</th>\n",
              "    </tr>\n",
              "  </thead>\n",
              "  <tbody>\n",
              "    <tr>\n",
              "      <th>0</th>\n",
              "      <td>1949-01-31</td>\n",
              "      <td>87.140669</td>\n",
              "      <td>64.184483</td>\n",
              "      <td>110.831888</td>\n",
              "    </tr>\n",
              "    <tr>\n",
              "      <th>1</th>\n",
              "      <td>1949-02-28</td>\n",
              "      <td>84.739482</td>\n",
              "      <td>59.188445</td>\n",
              "      <td>108.266599</td>\n",
              "    </tr>\n",
              "    <tr>\n",
              "      <th>2</th>\n",
              "      <td>1949-03-31</td>\n",
              "      <td>116.989800</td>\n",
              "      <td>93.293338</td>\n",
              "      <td>141.518577</td>\n",
              "    </tr>\n",
              "    <tr>\n",
              "      <th>3</th>\n",
              "      <td>1949-04-30</td>\n",
              "      <td>109.632953</td>\n",
              "      <td>85.684457</td>\n",
              "      <td>132.089521</td>\n",
              "    </tr>\n",
              "    <tr>\n",
              "      <th>4</th>\n",
              "      <td>1949-05-31</td>\n",
              "      <td>110.956821</td>\n",
              "      <td>85.457477</td>\n",
              "      <td>135.077774</td>\n",
              "    </tr>\n",
              "  </tbody>\n",
              "</table>\n",
              "</div>"
            ],
            "text/plain": [
              "          ds        yhat  yhat_lower  yhat_upper\n",
              "0 1949-01-31   87.140669   64.184483  110.831888\n",
              "1 1949-02-28   84.739482   59.188445  108.266599\n",
              "2 1949-03-31  116.989800   93.293338  141.518577\n",
              "3 1949-04-30  109.632953   85.684457  132.089521\n",
              "4 1949-05-31  110.956821   85.457477  135.077774"
            ]
          },
          "metadata": {
            "tags": []
          },
          "execution_count": 18
        }
      ]
    },
    {
      "cell_type": "code",
      "metadata": {
        "id": "Tllw-Hgo8vnZ",
        "colab_type": "code",
        "colab": {
          "base_uri": "https://localhost:8080/",
          "height": 206
        },
        "outputId": "6bac68c6-bc83-4dce-b906-7aeba72c6397"
      },
      "source": [
        "forecast[['ds', 'yhat', 'yhat_lower', 'yhat_upper']].tail()"
      ],
      "execution_count": 19,
      "outputs": [
        {
          "output_type": "execute_result",
          "data": {
            "text/html": [
              "<div>\n",
              "<style scoped>\n",
              "    .dataframe tbody tr th:only-of-type {\n",
              "        vertical-align: middle;\n",
              "    }\n",
              "\n",
              "    .dataframe tbody tr th {\n",
              "        vertical-align: top;\n",
              "    }\n",
              "\n",
              "    .dataframe thead th {\n",
              "        text-align: right;\n",
              "    }\n",
              "</style>\n",
              "<table border=\"1\" class=\"dataframe\">\n",
              "  <thead>\n",
              "    <tr style=\"text-align: right;\">\n",
              "      <th></th>\n",
              "      <th>ds</th>\n",
              "      <th>yhat</th>\n",
              "      <th>yhat_lower</th>\n",
              "      <th>yhat_upper</th>\n",
              "    </tr>\n",
              "  </thead>\n",
              "  <tbody>\n",
              "    <tr>\n",
              "      <th>139</th>\n",
              "      <td>1960-08-31</td>\n",
              "      <td>521.850474</td>\n",
              "      <td>497.017547</td>\n",
              "      <td>547.621800</td>\n",
              "    </tr>\n",
              "    <tr>\n",
              "      <th>140</th>\n",
              "      <td>1960-09-30</td>\n",
              "      <td>482.064579</td>\n",
              "      <td>456.820129</td>\n",
              "      <td>505.318689</td>\n",
              "    </tr>\n",
              "    <tr>\n",
              "      <th>141</th>\n",
              "      <td>1960-10-31</td>\n",
              "      <td>449.585006</td>\n",
              "      <td>425.921465</td>\n",
              "      <td>475.188658</td>\n",
              "    </tr>\n",
              "    <tr>\n",
              "      <th>142</th>\n",
              "      <td>1960-11-30</td>\n",
              "      <td>421.209923</td>\n",
              "      <td>397.439577</td>\n",
              "      <td>445.062737</td>\n",
              "    </tr>\n",
              "    <tr>\n",
              "      <th>143</th>\n",
              "      <td>1960-12-31</td>\n",
              "      <td>447.019679</td>\n",
              "      <td>424.301553</td>\n",
              "      <td>471.510968</td>\n",
              "    </tr>\n",
              "  </tbody>\n",
              "</table>\n",
              "</div>"
            ],
            "text/plain": [
              "            ds        yhat  yhat_lower  yhat_upper\n",
              "139 1960-08-31  521.850474  497.017547  547.621800\n",
              "140 1960-09-30  482.064579  456.820129  505.318689\n",
              "141 1960-10-31  449.585006  425.921465  475.188658\n",
              "142 1960-11-30  421.209923  397.439577  445.062737\n",
              "143 1960-12-31  447.019679  424.301553  471.510968"
            ]
          },
          "metadata": {
            "tags": []
          },
          "execution_count": 19
        }
      ]
    },
    {
      "cell_type": "code",
      "metadata": {
        "id": "dDN_fHas8xAR",
        "colab_type": "code",
        "colab": {
          "base_uri": "https://localhost:8080/",
          "height": 36
        },
        "outputId": "36e5f4fe-58b0-4751-ac6f-1959e180dcac"
      },
      "source": [
        "forecast[['ds', 'yhat', 'yhat_lower', 'yhat_upper']].shape"
      ],
      "execution_count": 20,
      "outputs": [
        {
          "output_type": "execute_result",
          "data": {
            "text/plain": [
              "(144, 4)"
            ]
          },
          "metadata": {
            "tags": []
          },
          "execution_count": 20
        }
      ]
    },
    {
      "cell_type": "markdown",
      "metadata": {
        "id": "Vq7oykp0_soT",
        "colab_type": "text"
      },
      "source": [
        "The dots are the actual data points. The line through the dots is the predicted values. The shared area represents the uncertainty intervals."
      ]
    },
    {
      "cell_type": "code",
      "metadata": {
        "id": "MQhvlr9z_n51",
        "colab_type": "code",
        "colab": {
          "base_uri": "https://localhost:8080/",
          "height": 437
        },
        "outputId": "4a0d85da-9515-43ac-c1f6-f928942d313e"
      },
      "source": [
        "fig = m.plot(forecast)"
      ],
      "execution_count": 22,
      "outputs": [
        {
          "output_type": "display_data",
          "data": {
            "image/png": "[encoded data removed]",
            "text/plain": [
              "<Figure size 720x432 with 1 Axes>"
            ]
          },
          "metadata": {
            "tags": []
          }
        }
      ]
    },
    {
      "cell_type": "markdown",
      "metadata": {
        "id": "UyzPS6JQ_vp9",
        "colab_type": "text"
      },
      "source": [
        "Trend and seasonality"
      ]
    },
    {
      "cell_type": "code",
      "metadata": {
        "id": "14vldA6D_wHC",
        "colab_type": "code",
        "colab": {
          "base_uri": "https://localhost:8080/",
          "height": 437
        },
        "outputId": "159ae555-fda0-4b11-c5f7-c52b16b96b33"
      },
      "source": [
        "fig_decompose = m.plot_components(forecast)"
      ],
      "execution_count": 23,
      "outputs": [
        {
          "output_type": "display_data",
          "data": {
            "image/png": "[encoded data removed]",
            "text/plain": [
              "<Figure size 648x432 with 2 Axes>"
            ]
          },
          "metadata": {
            "tags": []
          }
        }
      ]
    },
    {
      "cell_type": "markdown",
      "metadata": {
        "id": "fsSWHXYV_5pD",
        "colab_type": "text"
      },
      "source": [
        "## Multiplicative seasonality\n"
      ]
    },
    {
      "cell_type": "markdown",
      "metadata": {
        "id": "M_QQpkJlAACj",
        "colab_type": "text"
      },
      "source": [
        "It looks like the latter seasonal high and low data points in the training data weren't picked up super well. Perhpas we should try making that seasonality effect multiplicative."
      ]
    },
    {
      "cell_type": "code",
      "metadata": {
        "id": "7NRDecfS_64Y",
        "colab_type": "code",
        "colab": {
          "base_uri": "https://localhost:8080/",
          "height": 93
        },
        "outputId": "bdb058c5-45a4-4a66-8153-6e4b66dc59fe"
      },
      "source": [
        "m2 = Prophet(seasonality_mode='multiplicative')\n",
        "m2.fit(train)"
      ],
      "execution_count": 24,
      "outputs": [
        {
          "output_type": "stream",
          "text": [
            "INFO:fbprophet:Disabling weekly seasonality. Run prophet with weekly_seasonality=True to override this.\n",
            "INFO:fbprophet:Disabling daily seasonality. Run prophet with daily_seasonality=True to override this.\n"
          ],
          "name": "stderr"
        },
        {
          "output_type": "execute_result",
          "data": {
            "text/plain": [
              "<fbprophet.forecaster.Prophet at 0x7fe2b95b8518>"
            ]
          },
          "metadata": {
            "tags": []
          },
          "execution_count": 24
        }
      ]
    },
    {
      "cell_type": "code",
      "metadata": {
        "id": "wfi2lqwQAN-P",
        "colab_type": "code",
        "colab": {
          "base_uri": "https://localhost:8080/",
          "height": 424
        },
        "outputId": "4c348df5-0a7e-4e62-8aea-0ad72994cc25"
      },
      "source": [
        "future2 = m2.make_future_dataframe(periods=24, freq='m')\n",
        "forecast = m2.predict(future2)\n",
        "forecast[['ds', 'yhat', 'yhat_lower', 'yhat_upper']]"
      ],
      "execution_count": 25,
      "outputs": [
        {
          "output_type": "execute_result",
          "data": {
            "text/html": [
              "<div>\n",
              "<style scoped>\n",
              "    .dataframe tbody tr th:only-of-type {\n",
              "        vertical-align: middle;\n",
              "    }\n",
              "\n",
              "    .dataframe tbody tr th {\n",
              "        vertical-align: top;\n",
              "    }\n",
              "\n",
              "    .dataframe thead th {\n",
              "        text-align: right;\n",
              "    }\n",
              "</style>\n",
              "<table border=\"1\" class=\"dataframe\">\n",
              "  <thead>\n",
              "    <tr style=\"text-align: right;\">\n",
              "      <th></th>\n",
              "      <th>ds</th>\n",
              "      <th>yhat</th>\n",
              "      <th>yhat_lower</th>\n",
              "      <th>yhat_upper</th>\n",
              "    </tr>\n",
              "  </thead>\n",
              "  <tbody>\n",
              "    <tr>\n",
              "      <th>0</th>\n",
              "      <td>1949-01-31</td>\n",
              "      <td>104.175405</td>\n",
              "      <td>91.696460</td>\n",
              "      <td>114.755409</td>\n",
              "    </tr>\n",
              "    <tr>\n",
              "      <th>1</th>\n",
              "      <td>1949-02-28</td>\n",
              "      <td>103.249977</td>\n",
              "      <td>91.104216</td>\n",
              "      <td>114.812753</td>\n",
              "    </tr>\n",
              "    <tr>\n",
              "      <th>2</th>\n",
              "      <td>1949-03-31</td>\n",
              "      <td>119.945498</td>\n",
              "      <td>108.150494</td>\n",
              "      <td>132.370428</td>\n",
              "    </tr>\n",
              "    <tr>\n",
              "      <th>3</th>\n",
              "      <td>1949-04-30</td>\n",
              "      <td>117.284750</td>\n",
              "      <td>106.122778</td>\n",
              "      <td>129.638823</td>\n",
              "    </tr>\n",
              "    <tr>\n",
              "      <th>4</th>\n",
              "      <td>1949-05-31</td>\n",
              "      <td>119.376593</td>\n",
              "      <td>107.148843</td>\n",
              "      <td>130.777638</td>\n",
              "    </tr>\n",
              "    <tr>\n",
              "      <th>...</th>\n",
              "      <td>...</td>\n",
              "      <td>...</td>\n",
              "      <td>...</td>\n",
              "      <td>...</td>\n",
              "    </tr>\n",
              "    <tr>\n",
              "      <th>139</th>\n",
              "      <td>1960-08-31</td>\n",
              "      <td>551.778882</td>\n",
              "      <td>537.761521</td>\n",
              "      <td>564.551031</td>\n",
              "    </tr>\n",
              "    <tr>\n",
              "      <th>140</th>\n",
              "      <td>1960-09-30</td>\n",
              "      <td>474.840840</td>\n",
              "      <td>462.527637</td>\n",
              "      <td>488.816644</td>\n",
              "    </tr>\n",
              "    <tr>\n",
              "      <th>141</th>\n",
              "      <td>1960-10-31</td>\n",
              "      <td>412.914116</td>\n",
              "      <td>398.631638</td>\n",
              "      <td>425.525161</td>\n",
              "    </tr>\n",
              "    <tr>\n",
              "      <th>142</th>\n",
              "      <td>1960-11-30</td>\n",
              "      <td>363.290631</td>\n",
              "      <td>350.266271</td>\n",
              "      <td>375.770435</td>\n",
              "    </tr>\n",
              "    <tr>\n",
              "      <th>143</th>\n",
              "      <td>1960-12-31</td>\n",
              "      <td>402.720979</td>\n",
              "      <td>389.837790</td>\n",
              "      <td>416.225434</td>\n",
              "    </tr>\n",
              "  </tbody>\n",
              "</table>\n",
              "<p>144 rows × 4 columns</p>\n",
              "</div>"
            ],
            "text/plain": [
              "            ds        yhat  yhat_lower  yhat_upper\n",
              "0   1949-01-31  104.175405   91.696460  114.755409\n",
              "1   1949-02-28  103.249977   91.104216  114.812753\n",
              "2   1949-03-31  119.945498  108.150494  132.370428\n",
              "3   1949-04-30  117.284750  106.122778  129.638823\n",
              "4   1949-05-31  119.376593  107.148843  130.777638\n",
              "..         ...         ...         ...         ...\n",
              "139 1960-08-31  551.778882  537.761521  564.551031\n",
              "140 1960-09-30  474.840840  462.527637  488.816644\n",
              "141 1960-10-31  412.914116  398.631638  425.525161\n",
              "142 1960-11-30  363.290631  350.266271  375.770435\n",
              "143 1960-12-31  402.720979  389.837790  416.225434\n",
              "\n",
              "[144 rows x 4 columns]"
            ]
          },
          "metadata": {
            "tags": []
          },
          "execution_count": 25
        }
      ]
    },
    {
      "cell_type": "code",
      "metadata": {
        "id": "65DpFLCjASh6",
        "colab_type": "code",
        "colab": {
          "base_uri": "https://localhost:8080/",
          "height": 437
        },
        "outputId": "5a16d792-5a57-4dc6-a3b8-c300d7059622"
      },
      "source": [
        "fig = m.plot(forecast)"
      ],
      "execution_count": 26,
      "outputs": [
        {
          "output_type": "display_data",
          "data": {
            "image/png": "[encoded data removed]",
            "text/plain": [
              "<Figure size 720x432 with 1 Axes>"
            ]
          },
          "metadata": {
            "tags": []
          }
        }
      ]
    },
    {
      "cell_type": "code",
      "metadata": {
        "id": "b0XIXjosAUjS",
        "colab_type": "code",
        "colab": {
          "base_uri": "https://localhost:8080/",
          "height": 437
        },
        "outputId": "df79063a-35b4-4d7d-a005-90f619f193e0"
      },
      "source": [
        "fig = m.plot_components(forecast)"
      ],
      "execution_count": 27,
      "outputs": [
        {
          "output_type": "display_data",
          "data": {
            "image/png": "[encoded data removed]",
            "text/plain": [
              "<Figure size 648x432 with 2 Axes>"
            ]
          },
          "metadata": {
            "tags": []
          }
        }
      ]
    },
    {
      "cell_type": "markdown",
      "metadata": {
        "id": "jBt9JprtAYFz",
        "colab_type": "text"
      },
      "source": [
        "Looks like people travel in the summer."
      ]
    },
    {
      "cell_type": "markdown",
      "metadata": {
        "id": "dXkWobASAgAJ",
        "colab_type": "text"
      },
      "source": [
        "## Model evaluation\n",
        "\n",
        "Let's look at how the model with the multiplicative seasonality effect performs compared to a persistence model."
      ]
    },
    {
      "cell_type": "code",
      "metadata": {
        "id": "gt8GTeuwAhnD",
        "colab_type": "code",
        "colab": {
          "base_uri": "https://localhost:8080/",
          "height": 226
        },
        "outputId": "8dc7121e-3bcc-4904-81a0-9d72f823bdf4"
      },
      "source": [
        "forecast_persist = forecast.copy()\n",
        "forecast_persist['cutoff'] = pd.to_datetime('1959-01')\n",
        "forecast_persist['y'] = df_air['y']\n",
        "forecast_persist['yhat'] = df_air.at[119,'y']\n",
        "forecast_persist.tail()"
      ],
      "execution_count": 28,
      "outputs": [
        {
          "output_type": "execute_result",
          "data": {
            "text/html": [
              "<div>\n",
              "<style scoped>\n",
              "    .dataframe tbody tr th:only-of-type {\n",
              "        vertical-align: middle;\n",
              "    }\n",
              "\n",
              "    .dataframe tbody tr th {\n",
              "        vertical-align: top;\n",
              "    }\n",
              "\n",
              "    .dataframe thead th {\n",
              "        text-align: right;\n",
              "    }\n",
              "</style>\n",
              "<table border=\"1\" class=\"dataframe\">\n",
              "  <thead>\n",
              "    <tr style=\"text-align: right;\">\n",
              "      <th></th>\n",
              "      <th>ds</th>\n",
              "      <th>trend</th>\n",
              "      <th>yhat_lower</th>\n",
              "      <th>yhat_upper</th>\n",
              "      <th>trend_lower</th>\n",
              "      <th>trend_upper</th>\n",
              "      <th>multiplicative_terms</th>\n",
              "      <th>multiplicative_terms_lower</th>\n",
              "      <th>multiplicative_terms_upper</th>\n",
              "      <th>yearly</th>\n",
              "      <th>yearly_lower</th>\n",
              "      <th>yearly_upper</th>\n",
              "      <th>additive_terms</th>\n",
              "      <th>additive_terms_lower</th>\n",
              "      <th>additive_terms_upper</th>\n",
              "      <th>yhat</th>\n",
              "      <th>cutoff</th>\n",
              "      <th>y</th>\n",
              "    </tr>\n",
              "  </thead>\n",
              "  <tbody>\n",
              "    <tr>\n",
              "      <th>139</th>\n",
              "      <td>1960-08-31</td>\n",
              "      <td>449.980122</td>\n",
              "      <td>537.761521</td>\n",
              "      <td>564.551031</td>\n",
              "      <td>444.825825</td>\n",
              "      <td>454.956197</td>\n",
              "      <td>0.226229</td>\n",
              "      <td>0.226229</td>\n",
              "      <td>0.226229</td>\n",
              "      <td>0.226229</td>\n",
              "      <td>0.226229</td>\n",
              "      <td>0.226229</td>\n",
              "      <td>0.0</td>\n",
              "      <td>0.0</td>\n",
              "      <td>0.0</td>\n",
              "      <td>337</td>\n",
              "      <td>1959-01-01</td>\n",
              "      <td>606</td>\n",
              "    </tr>\n",
              "    <tr>\n",
              "      <th>140</th>\n",
              "      <td>1960-09-30</td>\n",
              "      <td>452.245090</td>\n",
              "      <td>462.527637</td>\n",
              "      <td>488.816644</td>\n",
              "      <td>446.682557</td>\n",
              "      <td>457.538173</td>\n",
              "      <td>0.049964</td>\n",
              "      <td>0.049964</td>\n",
              "      <td>0.049964</td>\n",
              "      <td>0.049964</td>\n",
              "      <td>0.049964</td>\n",
              "      <td>0.049964</td>\n",
              "      <td>0.0</td>\n",
              "      <td>0.0</td>\n",
              "      <td>0.0</td>\n",
              "      <td>337</td>\n",
              "      <td>1959-01-01</td>\n",
              "      <td>508</td>\n",
              "    </tr>\n",
              "    <tr>\n",
              "      <th>141</th>\n",
              "      <td>1960-10-31</td>\n",
              "      <td>454.585558</td>\n",
              "      <td>398.631638</td>\n",
              "      <td>425.525161</td>\n",
              "      <td>448.784785</td>\n",
              "      <td>460.224061</td>\n",
              "      <td>-0.091669</td>\n",
              "      <td>-0.091669</td>\n",
              "      <td>-0.091669</td>\n",
              "      <td>-0.091669</td>\n",
              "      <td>-0.091669</td>\n",
              "      <td>-0.091669</td>\n",
              "      <td>0.0</td>\n",
              "      <td>0.0</td>\n",
              "      <td>0.0</td>\n",
              "      <td>337</td>\n",
              "      <td>1959-01-01</td>\n",
              "      <td>461</td>\n",
              "    </tr>\n",
              "    <tr>\n",
              "      <th>142</th>\n",
              "      <td>1960-11-30</td>\n",
              "      <td>456.850526</td>\n",
              "      <td>350.266271</td>\n",
              "      <td>375.770435</td>\n",
              "      <td>450.658682</td>\n",
              "      <td>462.755211</td>\n",
              "      <td>-0.204793</td>\n",
              "      <td>-0.204793</td>\n",
              "      <td>-0.204793</td>\n",
              "      <td>-0.204793</td>\n",
              "      <td>-0.204793</td>\n",
              "      <td>-0.204793</td>\n",
              "      <td>0.0</td>\n",
              "      <td>0.0</td>\n",
              "      <td>0.0</td>\n",
              "      <td>337</td>\n",
              "      <td>1959-01-01</td>\n",
              "      <td>390</td>\n",
              "    </tr>\n",
              "    <tr>\n",
              "      <th>143</th>\n",
              "      <td>1960-12-31</td>\n",
              "      <td>459.190993</td>\n",
              "      <td>389.837790</td>\n",
              "      <td>416.225434</td>\n",
              "      <td>452.550561</td>\n",
              "      <td>465.412171</td>\n",
              "      <td>-0.122977</td>\n",
              "      <td>-0.122977</td>\n",
              "      <td>-0.122977</td>\n",
              "      <td>-0.122977</td>\n",
              "      <td>-0.122977</td>\n",
              "      <td>-0.122977</td>\n",
              "      <td>0.0</td>\n",
              "      <td>0.0</td>\n",
              "      <td>0.0</td>\n",
              "      <td>337</td>\n",
              "      <td>1959-01-01</td>\n",
              "      <td>432</td>\n",
              "    </tr>\n",
              "  </tbody>\n",
              "</table>\n",
              "</div>"
            ],
            "text/plain": [
              "            ds       trend  yhat_lower  ...  yhat     cutoff    y\n",
              "139 1960-08-31  449.980122  537.761521  ...   337 1959-01-01  606\n",
              "140 1960-09-30  452.245090  462.527637  ...   337 1959-01-01  508\n",
              "141 1960-10-31  454.585558  398.631638  ...   337 1959-01-01  461\n",
              "142 1960-11-30  456.850526  350.266271  ...   337 1959-01-01  390\n",
              "143 1960-12-31  459.190993  389.837790  ...   337 1959-01-01  432\n",
              "\n",
              "[5 rows x 18 columns]"
            ]
          },
          "metadata": {
            "tags": []
          },
          "execution_count": 28
        }
      ]
    },
    {
      "cell_type": "code",
      "metadata": {
        "id": "VtfkYeYHAoVq",
        "colab_type": "code",
        "colab": {
          "base_uri": "https://localhost:8080/",
          "height": 437
        },
        "outputId": "39610714-b339-4f6b-a2f7-6c590d1d43bb"
      },
      "source": [
        "fig = m.plot(forecast_persist)"
      ],
      "execution_count": 29,
      "outputs": [
        {
          "output_type": "display_data",
          "data": {
            "image/png": "[encoded data removed]",
            "text/plain": [
              "<Figure size 720x432 with 1 Axes>"
            ]
          },
          "metadata": {
            "tags": []
          }
        }
      ]
    },
    {
      "cell_type": "markdown",
      "metadata": {
        "id": "goKAfZWXAr21",
        "colab_type": "text"
      },
      "source": [
        "The straight line is the persistence forecast based on the value at the last training month, December 1958. The predicted range of values for the Prophet model is in the shaded region."
      ]
    },
    {
      "cell_type": "code",
      "metadata": {
        "id": "UF7O4qqHAxUC",
        "colab_type": "code",
        "colab": {
          "base_uri": "https://localhost:8080/",
          "height": 226
        },
        "outputId": "2b695044-eeaf-4fd9-b258-d9e2772d4b4f"
      },
      "source": [
        "forecast['cutoff'] = pd.to_datetime('1958-12-31')\n",
        "forecast['y'] = df_air['y']\n",
        "forecast.tail()"
      ],
      "execution_count": 31,
      "outputs": [
        {
          "output_type": "execute_result",
          "data": {
            "text/html": [
              "<div>\n",
              "<style scoped>\n",
              "    .dataframe tbody tr th:only-of-type {\n",
              "        vertical-align: middle;\n",
              "    }\n",
              "\n",
              "    .dataframe tbody tr th {\n",
              "        vertical-align: top;\n",
              "    }\n",
              "\n",
              "    .dataframe thead th {\n",
              "        text-align: right;\n",
              "    }\n",
              "</style>\n",
              "<table border=\"1\" class=\"dataframe\">\n",
              "  <thead>\n",
              "    <tr style=\"text-align: right;\">\n",
              "      <th></th>\n",
              "      <th>ds</th>\n",
              "      <th>trend</th>\n",
              "      <th>yhat_lower</th>\n",
              "      <th>yhat_upper</th>\n",
              "      <th>trend_lower</th>\n",
              "      <th>trend_upper</th>\n",
              "      <th>multiplicative_terms</th>\n",
              "      <th>multiplicative_terms_lower</th>\n",
              "      <th>multiplicative_terms_upper</th>\n",
              "      <th>yearly</th>\n",
              "      <th>yearly_lower</th>\n",
              "      <th>yearly_upper</th>\n",
              "      <th>additive_terms</th>\n",
              "      <th>additive_terms_lower</th>\n",
              "      <th>additive_terms_upper</th>\n",
              "      <th>yhat</th>\n",
              "      <th>cutoff</th>\n",
              "      <th>y</th>\n",
              "    </tr>\n",
              "  </thead>\n",
              "  <tbody>\n",
              "    <tr>\n",
              "      <th>139</th>\n",
              "      <td>1960-08-31</td>\n",
              "      <td>449.980122</td>\n",
              "      <td>537.761521</td>\n",
              "      <td>564.551031</td>\n",
              "      <td>444.825825</td>\n",
              "      <td>454.956197</td>\n",
              "      <td>0.226229</td>\n",
              "      <td>0.226229</td>\n",
              "      <td>0.226229</td>\n",
              "      <td>0.226229</td>\n",
              "      <td>0.226229</td>\n",
              "      <td>0.226229</td>\n",
              "      <td>0.0</td>\n",
              "      <td>0.0</td>\n",
              "      <td>0.0</td>\n",
              "      <td>551.778882</td>\n",
              "      <td>1958-12-31</td>\n",
              "      <td>606</td>\n",
              "    </tr>\n",
              "    <tr>\n",
              "      <th>140</th>\n",
              "      <td>1960-09-30</td>\n",
              "      <td>452.245090</td>\n",
              "      <td>462.527637</td>\n",
              "      <td>488.816644</td>\n",
              "      <td>446.682557</td>\n",
              "      <td>457.538173</td>\n",
              "      <td>0.049964</td>\n",
              "      <td>0.049964</td>\n",
              "      <td>0.049964</td>\n",
              "      <td>0.049964</td>\n",
              "      <td>0.049964</td>\n",
              "      <td>0.049964</td>\n",
              "      <td>0.0</td>\n",
              "      <td>0.0</td>\n",
              "      <td>0.0</td>\n",
              "      <td>474.840840</td>\n",
              "      <td>1958-12-31</td>\n",
              "      <td>508</td>\n",
              "    </tr>\n",
              "    <tr>\n",
              "      <th>141</th>\n",
              "      <td>1960-10-31</td>\n",
              "      <td>454.585558</td>\n",
              "      <td>398.631638</td>\n",
              "      <td>425.525161</td>\n",
              "      <td>448.784785</td>\n",
              "      <td>460.224061</td>\n",
              "      <td>-0.091669</td>\n",
              "      <td>-0.091669</td>\n",
              "      <td>-0.091669</td>\n",
              "      <td>-0.091669</td>\n",
              "      <td>-0.091669</td>\n",
              "      <td>-0.091669</td>\n",
              "      <td>0.0</td>\n",
              "      <td>0.0</td>\n",
              "      <td>0.0</td>\n",
              "      <td>412.914116</td>\n",
              "      <td>1958-12-31</td>\n",
              "      <td>461</td>\n",
              "    </tr>\n",
              "    <tr>\n",
              "      <th>142</th>\n",
              "      <td>1960-11-30</td>\n",
              "      <td>456.850526</td>\n",
              "      <td>350.266271</td>\n",
              "      <td>375.770435</td>\n",
              "      <td>450.658682</td>\n",
              "      <td>462.755211</td>\n",
              "      <td>-0.204793</td>\n",
              "      <td>-0.204793</td>\n",
              "      <td>-0.204793</td>\n",
              "      <td>-0.204793</td>\n",
              "      <td>-0.204793</td>\n",
              "      <td>-0.204793</td>\n",
              "      <td>0.0</td>\n",
              "      <td>0.0</td>\n",
              "      <td>0.0</td>\n",
              "      <td>363.290631</td>\n",
              "      <td>1958-12-31</td>\n",
              "      <td>390</td>\n",
              "    </tr>\n",
              "    <tr>\n",
              "      <th>143</th>\n",
              "      <td>1960-12-31</td>\n",
              "      <td>459.190993</td>\n",
              "      <td>389.837790</td>\n",
              "      <td>416.225434</td>\n",
              "      <td>452.550561</td>\n",
              "      <td>465.412171</td>\n",
              "      <td>-0.122977</td>\n",
              "      <td>-0.122977</td>\n",
              "      <td>-0.122977</td>\n",
              "      <td>-0.122977</td>\n",
              "      <td>-0.122977</td>\n",
              "      <td>-0.122977</td>\n",
              "      <td>0.0</td>\n",
              "      <td>0.0</td>\n",
              "      <td>0.0</td>\n",
              "      <td>402.720979</td>\n",
              "      <td>1958-12-31</td>\n",
              "      <td>432</td>\n",
              "    </tr>\n",
              "  </tbody>\n",
              "</table>\n",
              "</div>"
            ],
            "text/plain": [
              "            ds       trend  yhat_lower  ...        yhat     cutoff    y\n",
              "139 1960-08-31  449.980122  537.761521  ...  551.778882 1958-12-31  606\n",
              "140 1960-09-30  452.245090  462.527637  ...  474.840840 1958-12-31  508\n",
              "141 1960-10-31  454.585558  398.631638  ...  412.914116 1958-12-31  461\n",
              "142 1960-11-30  456.850526  350.266271  ...  363.290631 1958-12-31  390\n",
              "143 1960-12-31  459.190993  389.837790  ...  402.720979 1958-12-31  432\n",
              "\n",
              "[5 rows x 18 columns]"
            ]
          },
          "metadata": {
            "tags": []
          },
          "execution_count": 31
        }
      ]
    },
    {
      "cell_type": "markdown",
      "metadata": {
        "id": "gZlt7TWUA--q",
        "colab_type": "text"
      },
      "source": [
        "compute the error terms for both models."
      ]
    },
    {
      "cell_type": "code",
      "metadata": {
        "id": "SAu946FlAzJ4",
        "colab_type": "code",
        "colab": {
          "base_uri": "https://localhost:8080/",
          "height": 206
        },
        "outputId": "f180b324-e895-4ae3-b0df-73063872f77b"
      },
      "source": [
        "df_air_p = performance_metrics(forecast[120:])\n",
        "df_air_p.head()"
      ],
      "execution_count": 32,
      "outputs": [
        {
          "output_type": "execute_result",
          "data": {
            "text/html": [
              "<div>\n",
              "<style scoped>\n",
              "    .dataframe tbody tr th:only-of-type {\n",
              "        vertical-align: middle;\n",
              "    }\n",
              "\n",
              "    .dataframe tbody tr th {\n",
              "        vertical-align: top;\n",
              "    }\n",
              "\n",
              "    .dataframe thead th {\n",
              "        text-align: right;\n",
              "    }\n",
              "</style>\n",
              "<table border=\"1\" class=\"dataframe\">\n",
              "  <thead>\n",
              "    <tr style=\"text-align: right;\">\n",
              "      <th></th>\n",
              "      <th>horizon</th>\n",
              "      <th>mse</th>\n",
              "      <th>rmse</th>\n",
              "      <th>mae</th>\n",
              "      <th>mape</th>\n",
              "      <th>coverage</th>\n",
              "    </tr>\n",
              "  </thead>\n",
              "  <tbody>\n",
              "    <tr>\n",
              "      <th>0</th>\n",
              "      <td>59 days</td>\n",
              "      <td>86.085096</td>\n",
              "      <td>9.278205</td>\n",
              "      <td>9.260054</td>\n",
              "      <td>0.026357</td>\n",
              "      <td>1.0</td>\n",
              "    </tr>\n",
              "    <tr>\n",
              "      <th>1</th>\n",
              "      <td>90 days</td>\n",
              "      <td>41.970653</td>\n",
              "      <td>6.478476</td>\n",
              "      <td>5.806227</td>\n",
              "      <td>0.016301</td>\n",
              "      <td>1.0</td>\n",
              "    </tr>\n",
              "    <tr>\n",
              "      <th>2</th>\n",
              "      <td>120 days</td>\n",
              "      <td>4.666580</td>\n",
              "      <td>2.160227</td>\n",
              "      <td>1.894518</td>\n",
              "      <td>0.004693</td>\n",
              "      <td>1.0</td>\n",
              "    </tr>\n",
              "    <tr>\n",
              "      <th>3</th>\n",
              "      <td>151 days</td>\n",
              "      <td>120.014937</td>\n",
              "      <td>10.955133</td>\n",
              "      <td>8.162875</td>\n",
              "      <td>0.019497</td>\n",
              "      <td>0.5</td>\n",
              "    </tr>\n",
              "    <tr>\n",
              "      <th>4</th>\n",
              "      <td>181 days</td>\n",
              "      <td>169.326305</td>\n",
              "      <td>13.012544</td>\n",
              "      <td>12.718485</td>\n",
              "      <td>0.028975</td>\n",
              "      <td>0.5</td>\n",
              "    </tr>\n",
              "  </tbody>\n",
              "</table>\n",
              "</div>"
            ],
            "text/plain": [
              "   horizon         mse       rmse        mae      mape  coverage\n",
              "0  59 days   86.085096   9.278205   9.260054  0.026357       1.0\n",
              "1  90 days   41.970653   6.478476   5.806227  0.016301       1.0\n",
              "2 120 days    4.666580   2.160227   1.894518  0.004693       1.0\n",
              "3 151 days  120.014937  10.955133   8.162875  0.019497       0.5\n",
              "4 181 days  169.326305  13.012544  12.718485  0.028975       0.5"
            ]
          },
          "metadata": {
            "tags": []
          },
          "execution_count": 32
        }
      ]
    },
    {
      "cell_type": "code",
      "metadata": {
        "id": "QoeoyTy7BLja",
        "colab_type": "code",
        "colab": {
          "base_uri": "https://localhost:8080/",
          "height": 206
        },
        "outputId": "7aa96c2b-247a-4e01-9ee3-7f1b0bc6eadc"
      },
      "source": [
        "df_persist_p = performance_metrics(forecast_persist[120:])\n",
        "df_persist_p.head()"
      ],
      "execution_count": 33,
      "outputs": [
        {
          "output_type": "execute_result",
          "data": {
            "text/html": [
              "<div>\n",
              "<style scoped>\n",
              "    .dataframe tbody tr th:only-of-type {\n",
              "        vertical-align: middle;\n",
              "    }\n",
              "\n",
              "    .dataframe tbody tr th {\n",
              "        vertical-align: top;\n",
              "    }\n",
              "\n",
              "    .dataframe thead th {\n",
              "        text-align: right;\n",
              "    }\n",
              "</style>\n",
              "<table border=\"1\" class=\"dataframe\">\n",
              "  <thead>\n",
              "    <tr style=\"text-align: right;\">\n",
              "      <th></th>\n",
              "      <th>horizon</th>\n",
              "      <th>mse</th>\n",
              "      <th>rmse</th>\n",
              "      <th>mae</th>\n",
              "      <th>mape</th>\n",
              "      <th>coverage</th>\n",
              "    </tr>\n",
              "  </thead>\n",
              "  <tbody>\n",
              "    <tr>\n",
              "      <th>0</th>\n",
              "      <td>58 days</td>\n",
              "      <td>277.0</td>\n",
              "      <td>16.643317</td>\n",
              "      <td>14.0</td>\n",
              "      <td>0.039254</td>\n",
              "      <td>1.0</td>\n",
              "    </tr>\n",
              "    <tr>\n",
              "      <th>1</th>\n",
              "      <td>89 days</td>\n",
              "      <td>2393.0</td>\n",
              "      <td>48.918299</td>\n",
              "      <td>37.0</td>\n",
              "      <td>0.092285</td>\n",
              "      <td>1.0</td>\n",
              "    </tr>\n",
              "    <tr>\n",
              "      <th>2</th>\n",
              "      <td>119 days</td>\n",
              "      <td>4121.0</td>\n",
              "      <td>64.195015</td>\n",
              "      <td>64.0</td>\n",
              "      <td>0.159470</td>\n",
              "      <td>1.0</td>\n",
              "    </tr>\n",
              "    <tr>\n",
              "      <th>3</th>\n",
              "      <td>150 days</td>\n",
              "      <td>5185.0</td>\n",
              "      <td>72.006944</td>\n",
              "      <td>71.0</td>\n",
              "      <td>0.173304</td>\n",
              "      <td>0.5</td>\n",
              "    </tr>\n",
              "    <tr>\n",
              "      <th>4</th>\n",
              "      <td>180 days</td>\n",
              "      <td>12557.0</td>\n",
              "      <td>112.058021</td>\n",
              "      <td>109.0</td>\n",
              "      <td>0.241818</td>\n",
              "      <td>0.5</td>\n",
              "    </tr>\n",
              "  </tbody>\n",
              "</table>\n",
              "</div>"
            ],
            "text/plain": [
              "   horizon      mse        rmse    mae      mape  coverage\n",
              "0  58 days    277.0   16.643317   14.0  0.039254       1.0\n",
              "1  89 days   2393.0   48.918299   37.0  0.092285       1.0\n",
              "2 119 days   4121.0   64.195015   64.0  0.159470       1.0\n",
              "3 150 days   5185.0   72.006944   71.0  0.173304       0.5\n",
              "4 180 days  12557.0  112.058021  109.0  0.241818       0.5"
            ]
          },
          "metadata": {
            "tags": []
          },
          "execution_count": 33
        }
      ]
    },
    {
      "cell_type": "markdown",
      "metadata": {
        "id": "qkH1FXdrBTE6",
        "colab_type": "text"
      },
      "source": [
        "plot the RMSE lines for the two models. I chose RMSE because its a common metric that outputs an error term in the same units as the predicted variable. So in this case, passengers."
      ]
    },
    {
      "cell_type": "code",
      "metadata": {
        "id": "LNJX07KFBQzC",
        "colab_type": "code",
        "colab": {
          "base_uri": "https://localhost:8080/",
          "height": 206
        },
        "outputId": "669da0be-a76f-450c-d311-bb1ab1f9f288"
      },
      "source": [
        "df_air_plot = pd.DataFrame([df_air_p['rmse'], df_persist_p['rmse']])\n",
        "df_air_plot = df_air_plot.T\n",
        "df_air_plot.columns = ['prophet_rmse', 'persist_rmse']\n",
        "df_air_plot.head()"
      ],
      "execution_count": 34,
      "outputs": [
        {
          "output_type": "execute_result",
          "data": {
            "text/html": [
              "<div>\n",
              "<style scoped>\n",
              "    .dataframe tbody tr th:only-of-type {\n",
              "        vertical-align: middle;\n",
              "    }\n",
              "\n",
              "    .dataframe tbody tr th {\n",
              "        vertical-align: top;\n",
              "    }\n",
              "\n",
              "    .dataframe thead th {\n",
              "        text-align: right;\n",
              "    }\n",
              "</style>\n",
              "<table border=\"1\" class=\"dataframe\">\n",
              "  <thead>\n",
              "    <tr style=\"text-align: right;\">\n",
              "      <th></th>\n",
              "      <th>prophet_rmse</th>\n",
              "      <th>persist_rmse</th>\n",
              "    </tr>\n",
              "  </thead>\n",
              "  <tbody>\n",
              "    <tr>\n",
              "      <th>0</th>\n",
              "      <td>9.278205</td>\n",
              "      <td>16.643317</td>\n",
              "    </tr>\n",
              "    <tr>\n",
              "      <th>1</th>\n",
              "      <td>6.478476</td>\n",
              "      <td>48.918299</td>\n",
              "    </tr>\n",
              "    <tr>\n",
              "      <th>2</th>\n",
              "      <td>2.160227</td>\n",
              "      <td>64.195015</td>\n",
              "    </tr>\n",
              "    <tr>\n",
              "      <th>3</th>\n",
              "      <td>10.955133</td>\n",
              "      <td>72.006944</td>\n",
              "    </tr>\n",
              "    <tr>\n",
              "      <th>4</th>\n",
              "      <td>13.012544</td>\n",
              "      <td>112.058021</td>\n",
              "    </tr>\n",
              "  </tbody>\n",
              "</table>\n",
              "</div>"
            ],
            "text/plain": [
              "   prophet_rmse  persist_rmse\n",
              "0      9.278205     16.643317\n",
              "1      6.478476     48.918299\n",
              "2      2.160227     64.195015\n",
              "3     10.955133     72.006944\n",
              "4     13.012544    112.058021"
            ]
          },
          "metadata": {
            "tags": []
          },
          "execution_count": 34
        }
      ]
    },
    {
      "cell_type": "code",
      "metadata": {
        "id": "12rEIJs3BXKU",
        "colab_type": "code",
        "colab": {
          "base_uri": "https://localhost:8080/",
          "height": 426
        },
        "outputId": "18c3b947-89b3-4d04-e203-73eea994e626"
      },
      "source": [
        "df_plot = df_air_plot[:12]\n",
        "df_plot"
      ],
      "execution_count": 35,
      "outputs": [
        {
          "output_type": "execute_result",
          "data": {
            "text/html": [
              "<div>\n",
              "<style scoped>\n",
              "    .dataframe tbody tr th:only-of-type {\n",
              "        vertical-align: middle;\n",
              "    }\n",
              "\n",
              "    .dataframe tbody tr th {\n",
              "        vertical-align: top;\n",
              "    }\n",
              "\n",
              "    .dataframe thead th {\n",
              "        text-align: right;\n",
              "    }\n",
              "</style>\n",
              "<table border=\"1\" class=\"dataframe\">\n",
              "  <thead>\n",
              "    <tr style=\"text-align: right;\">\n",
              "      <th></th>\n",
              "      <th>prophet_rmse</th>\n",
              "      <th>persist_rmse</th>\n",
              "    </tr>\n",
              "  </thead>\n",
              "  <tbody>\n",
              "    <tr>\n",
              "      <th>0</th>\n",
              "      <td>9.278205</td>\n",
              "      <td>16.643317</td>\n",
              "    </tr>\n",
              "    <tr>\n",
              "      <th>1</th>\n",
              "      <td>6.478476</td>\n",
              "      <td>48.918299</td>\n",
              "    </tr>\n",
              "    <tr>\n",
              "      <th>2</th>\n",
              "      <td>2.160227</td>\n",
              "      <td>64.195015</td>\n",
              "    </tr>\n",
              "    <tr>\n",
              "      <th>3</th>\n",
              "      <td>10.955133</td>\n",
              "      <td>72.006944</td>\n",
              "    </tr>\n",
              "    <tr>\n",
              "      <th>4</th>\n",
              "      <td>13.012544</td>\n",
              "      <td>112.058021</td>\n",
              "    </tr>\n",
              "    <tr>\n",
              "      <th>5</th>\n",
              "      <td>17.451522</td>\n",
              "      <td>177.124250</td>\n",
              "    </tr>\n",
              "    <tr>\n",
              "      <th>6</th>\n",
              "      <td>33.993858</td>\n",
              "      <td>216.569850</td>\n",
              "    </tr>\n",
              "    <tr>\n",
              "      <th>7</th>\n",
              "      <td>32.860021</td>\n",
              "      <td>180.499307</td>\n",
              "    </tr>\n",
              "    <tr>\n",
              "      <th>8</th>\n",
              "      <td>18.451887</td>\n",
              "      <td>101.921538</td>\n",
              "    </tr>\n",
              "    <tr>\n",
              "      <th>9</th>\n",
              "      <td>22.373715</td>\n",
              "      <td>52.559490</td>\n",
              "    </tr>\n",
              "    <tr>\n",
              "      <th>10</th>\n",
              "      <td>25.839126</td>\n",
              "      <td>51.229874</td>\n",
              "    </tr>\n",
              "    <tr>\n",
              "      <th>11</th>\n",
              "      <td>22.089943</td>\n",
              "      <td>74.242845</td>\n",
              "    </tr>\n",
              "  </tbody>\n",
              "</table>\n",
              "</div>"
            ],
            "text/plain": [
              "    prophet_rmse  persist_rmse\n",
              "0       9.278205     16.643317\n",
              "1       6.478476     48.918299\n",
              "2       2.160227     64.195015\n",
              "3      10.955133     72.006944\n",
              "4      13.012544    112.058021\n",
              "5      17.451522    177.124250\n",
              "6      33.993858    216.569850\n",
              "7      32.860021    180.499307\n",
              "8      18.451887    101.921538\n",
              "9      22.373715     52.559490\n",
              "10     25.839126     51.229874\n",
              "11     22.089943     74.242845"
            ]
          },
          "metadata": {
            "tags": []
          },
          "execution_count": 35
        }
      ]
    },
    {
      "cell_type": "code",
      "metadata": {
        "id": "HeAbnqlMBaGD",
        "colab_type": "code",
        "colab": {
          "base_uri": "https://localhost:8080/",
          "height": 320
        },
        "outputId": "05164948-0c30-48bd-b26c-40eb4bbfec8b"
      },
      "source": [
        "ax = sns.lineplot(\n",
        "    data=df_plot,\n",
        "    x=list(range(12)), \n",
        "    y='prophet_rmse',\n",
        "    )\n",
        "plt.title('RMSE Comparison of Prophet Model for Flight Passenger')\n",
        "plt.xlabel('Month')\n",
        "plt.ylabel('RMSE')"
      ],
      "execution_count": 36,
      "outputs": [
        {
          "output_type": "execute_result",
          "data": {
            "text/plain": [
              "Text(0, 0.5, 'RMSE')"
            ]
          },
          "metadata": {
            "tags": []
          },
          "execution_count": 36
        },
        {
          "output_type": "display_data",
          "data": {
            "image/png": "[encoded data removed]",
            "text/plain": [
              "<Figure size 432x288 with 1 Axes>"
            ]
          },
          "metadata": {
            "tags": []
          }
        }
      ]
    },
    {
      "cell_type": "code",
      "metadata": {
        "id": "Yiwqn25GBfEa",
        "colab_type": "code",
        "colab": {
          "base_uri": "https://localhost:8080/",
          "height": 320
        },
        "outputId": "ca9c02c5-b669-476e-ba3f-22e428ee751a"
      },
      "source": [
        "ax = sns.lineplot(\n",
        "    data=df_plot,\n",
        "    x=list(range(1, 13)), \n",
        "    y='prophet_rmse',\n",
        "    )\n",
        "\n",
        "ax = sns.lineplot(\n",
        "    data=df_plot,\n",
        "    x=list(range(1, 13)), \n",
        "    y='persist_rmse',\n",
        "    )\n",
        "\n",
        "plt.title('RMSE Comparison of Prophet Model for Flight Passenger')\n",
        "plt.xlabel('Month')\n",
        "plt.ylabel('RMSE')\n",
        "\n",
        "plt.rcParams['figure.figsize']=(12, 6)\n",
        "plt.legend(['Prophet RMSE','Persistence RMSE'])"
      ],
      "execution_count": 37,
      "outputs": [
        {
          "output_type": "execute_result",
          "data": {
            "text/plain": [
              "<matplotlib.legend.Legend at 0x7fe2b392d550>"
            ]
          },
          "metadata": {
            "tags": []
          },
          "execution_count": 37
        },
        {
          "output_type": "display_data",
          "data": {
            "image/png": "[encoded data removed]",
            "text/plain": [
              "<Figure size 432x288 with 1 Axes>"
            ]
          },
          "metadata": {
            "tags": []
          }
        }
      ]
    },
    {
      "cell_type": "markdown",
      "metadata": {
        "id": "TICDA_39BmsC",
        "colab_type": "text"
      },
      "source": [
        "The Persistence model has a higher RMSE for every time period. So Prophet beats the Persistence model! That's a low bar, but we'll take it - predicting the future isn't easy."
      ]
    },
    {
      "cell_type": "markdown",
      "metadata": {
        "id": "2E4nFXJVBqST",
        "colab_type": "text"
      },
      "source": [
        "\n",
        "\n",
        "Now we will subtract one DataFrame from the other to see the exact differences in errors"
      ]
    },
    {
      "cell_type": "code",
      "metadata": {
        "id": "NJtyEwucBsQK",
        "colab_type": "code",
        "colab": {}
      },
      "source": [
        "df_air_compare = df_persist_p - df_air_p\n",
        "df_air_compare = df_air_compare.drop(columns=['horizon', 'coverage'])"
      ],
      "execution_count": 0,
      "outputs": []
    },
    {
      "cell_type": "code",
      "metadata": {
        "id": "3MGw8iSQBtul",
        "colab_type": "code",
        "colab": {
          "base_uri": "https://localhost:8080/",
          "height": 426
        },
        "outputId": "c6ce2dac-2dce-4399-a60b-0f80cb96ca75"
      },
      "source": [
        "df_air_compare[:12]"
      ],
      "execution_count": 39,
      "outputs": [
        {
          "output_type": "execute_result",
          "data": {
            "text/html": [
              "<div>\n",
              "<style scoped>\n",
              "    .dataframe tbody tr th:only-of-type {\n",
              "        vertical-align: middle;\n",
              "    }\n",
              "\n",
              "    .dataframe tbody tr th {\n",
              "        vertical-align: top;\n",
              "    }\n",
              "\n",
              "    .dataframe thead th {\n",
              "        text-align: right;\n",
              "    }\n",
              "</style>\n",
              "<table border=\"1\" class=\"dataframe\">\n",
              "  <thead>\n",
              "    <tr style=\"text-align: right;\">\n",
              "      <th></th>\n",
              "      <th>mse</th>\n",
              "      <th>rmse</th>\n",
              "      <th>mae</th>\n",
              "      <th>mape</th>\n",
              "    </tr>\n",
              "  </thead>\n",
              "  <tbody>\n",
              "    <tr>\n",
              "      <th>0</th>\n",
              "      <td>190.914904</td>\n",
              "      <td>7.365112</td>\n",
              "      <td>4.739946</td>\n",
              "      <td>0.012898</td>\n",
              "    </tr>\n",
              "    <tr>\n",
              "      <th>1</th>\n",
              "      <td>2351.029347</td>\n",
              "      <td>42.439823</td>\n",
              "      <td>31.193773</td>\n",
              "      <td>0.075984</td>\n",
              "    </tr>\n",
              "    <tr>\n",
              "      <th>2</th>\n",
              "      <td>4116.333420</td>\n",
              "      <td>62.034788</td>\n",
              "      <td>62.105482</td>\n",
              "      <td>0.154777</td>\n",
              "    </tr>\n",
              "    <tr>\n",
              "      <th>3</th>\n",
              "      <td>5064.985063</td>\n",
              "      <td>61.051811</td>\n",
              "      <td>62.837125</td>\n",
              "      <td>0.153807</td>\n",
              "    </tr>\n",
              "    <tr>\n",
              "      <th>4</th>\n",
              "      <td>12387.673695</td>\n",
              "      <td>99.045477</td>\n",
              "      <td>96.281515</td>\n",
              "      <td>0.212843</td>\n",
              "    </tr>\n",
              "    <tr>\n",
              "      <th>5</th>\n",
              "      <td>31068.444387</td>\n",
              "      <td>159.672728</td>\n",
              "      <td>156.727240</td>\n",
              "      <td>0.304368</td>\n",
              "    </tr>\n",
              "    <tr>\n",
              "      <th>6</th>\n",
              "      <td>45746.917642</td>\n",
              "      <td>182.575993</td>\n",
              "      <td>183.989615</td>\n",
              "      <td>0.332524</td>\n",
              "    </tr>\n",
              "    <tr>\n",
              "      <th>7</th>\n",
              "      <td>31500.218993</td>\n",
              "      <td>147.639286</td>\n",
              "      <td>143.316037</td>\n",
              "      <td>0.276237</td>\n",
              "    </tr>\n",
              "    <tr>\n",
              "      <th>8</th>\n",
              "      <td>10047.527873</td>\n",
              "      <td>83.469652</td>\n",
              "      <td>79.554338</td>\n",
              "      <td>0.179555</td>\n",
              "    </tr>\n",
              "    <tr>\n",
              "      <th>9</th>\n",
              "      <td>2261.916861</td>\n",
              "      <td>30.185775</td>\n",
              "      <td>25.493983</td>\n",
              "      <td>0.062479</td>\n",
              "    </tr>\n",
              "    <tr>\n",
              "      <th>10</th>\n",
              "      <td>1956.839560</td>\n",
              "      <td>25.390748</td>\n",
              "      <td>20.661706</td>\n",
              "      <td>0.050863</td>\n",
              "    </tr>\n",
              "    <tr>\n",
              "      <th>11</th>\n",
              "      <td>5024.034439</td>\n",
              "      <td>52.152902</td>\n",
              "      <td>52.254447</td>\n",
              "      <td>0.126816</td>\n",
              "    </tr>\n",
              "  </tbody>\n",
              "</table>\n",
              "</div>"
            ],
            "text/plain": [
              "             mse        rmse         mae      mape\n",
              "0     190.914904    7.365112    4.739946  0.012898\n",
              "1    2351.029347   42.439823   31.193773  0.075984\n",
              "2    4116.333420   62.034788   62.105482  0.154777\n",
              "3    5064.985063   61.051811   62.837125  0.153807\n",
              "4   12387.673695   99.045477   96.281515  0.212843\n",
              "5   31068.444387  159.672728  156.727240  0.304368\n",
              "6   45746.917642  182.575993  183.989615  0.332524\n",
              "7   31500.218993  147.639286  143.316037  0.276237\n",
              "8   10047.527873   83.469652   79.554338  0.179555\n",
              "9    2261.916861   30.185775   25.493983  0.062479\n",
              "10   1956.839560   25.390748   20.661706  0.050863\n",
              "11   5024.034439   52.152902   52.254447  0.126816"
            ]
          },
          "metadata": {
            "tags": []
          },
          "execution_count": 39
        }
      ]
    }
  ]
}