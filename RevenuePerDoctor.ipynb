{
  "nbformat": 4,
  "nbformat_minor": 0,
  "metadata": {
    "colab": {
      "name": "RevenuePerDoctor",
      "provenance": [],
      "include_colab_link": true
    },
    "kernelspec": {
      "name": "python3",
      "display_name": "Python 3"
    }
  },
  "cells": [
    {
      "cell_type": "markdown",
      "metadata": {
        "id": "view-in-github",
        "colab_type": "text"
      },
      "source": [
        "<a href=\"https://colab.research.google.com/github/leoquiroa/Prophet/blob/master/RevenuePerDoctor.ipynb\" target=\"_parent\"><img src=\"https://colab.research.google.com/assets/colab-badge.svg\" alt=\"Open In Colab\"/></a>"
      ]
    },
    {
      "cell_type": "code",
      "metadata": {
        "id": "lsGsxzQiFRnN",
        "colab_type": "code",
        "colab": {}
      },
      "source": [
        "# essentials\n",
        "import numpy as np \n",
        "import pandas as pd \n",
        "\n",
        "# visualizations\n",
        "import matplotlib.pyplot as plt\n",
        "import seaborn as sns\n",
        "\n",
        "# time series algorithm\n",
        "from fbprophet import Prophet\n",
        "from fbprophet.diagnostics import performance_metrics\n",
        "\n",
        "# reproducibility\n",
        "np.random.seed(34)\n",
        "\n",
        "# Jupyter magic\n",
        "%reload_ext autoreload\n",
        "%autoreload 2\n",
        "%matplotlib inline\n",
        "\n",
        "sns.set()"
      ],
      "execution_count": 0,
      "outputs": []
    },
    {
      "cell_type": "code",
      "metadata": {
        "id": "QbJdXzG8FUIT",
        "colab_type": "code",
        "outputId": "65bb93c7-21ef-4656-e709-f92cc907f234",
        "colab": {
          "base_uri": "https://localhost:8080/",
          "height": 206
        }
      },
      "source": [
        "url = 'https://raw.githubusercontent.com/leoquiroa/Prophet/master/data/daily_revenue_doctor.csv'\n",
        "df_doc = pd.read_csv(\n",
        "    url, \n",
        "    nrows=4167,\n",
        "    names = ['ds','cat','y'], \n",
        "    parse_dates = True )\n",
        "df_doc.head()"
      ],
      "execution_count": 2,
      "outputs": [
        {
          "output_type": "execute_result",
          "data": {
            "text/html": [
              "<div>\n",
              "<style scoped>\n",
              "    .dataframe tbody tr th:only-of-type {\n",
              "        vertical-align: middle;\n",
              "    }\n",
              "\n",
              "    .dataframe tbody tr th {\n",
              "        vertical-align: top;\n",
              "    }\n",
              "\n",
              "    .dataframe thead th {\n",
              "        text-align: right;\n",
              "    }\n",
              "</style>\n",
              "<table border=\"1\" class=\"dataframe\">\n",
              "  <thead>\n",
              "    <tr style=\"text-align: right;\">\n",
              "      <th></th>\n",
              "      <th>ds</th>\n",
              "      <th>cat</th>\n",
              "      <th>y</th>\n",
              "    </tr>\n",
              "  </thead>\n",
              "  <tbody>\n",
              "    <tr>\n",
              "      <th>0</th>\n",
              "      <td>2016-02-15</td>\n",
              "      <td>Manjunath Vadmal</td>\n",
              "      <td>1439.90</td>\n",
              "    </tr>\n",
              "    <tr>\n",
              "      <th>1</th>\n",
              "      <td>2016-02-15</td>\n",
              "      <td>Robert Caputo</td>\n",
              "      <td>5472.11</td>\n",
              "    </tr>\n",
              "    <tr>\n",
              "      <th>2</th>\n",
              "      <td>2016-02-15</td>\n",
              "      <td>Susan Jones</td>\n",
              "      <td>0.00</td>\n",
              "    </tr>\n",
              "    <tr>\n",
              "      <th>3</th>\n",
              "      <td>2016-02-16</td>\n",
              "      <td>Manjunath Vadmal</td>\n",
              "      <td>3859.97</td>\n",
              "    </tr>\n",
              "    <tr>\n",
              "      <th>4</th>\n",
              "      <td>2016-02-16</td>\n",
              "      <td>Robert Caputo</td>\n",
              "      <td>3248.52</td>\n",
              "    </tr>\n",
              "  </tbody>\n",
              "</table>\n",
              "</div>"
            ],
            "text/plain": [
              "           ds               cat        y\n",
              "0  2016-02-15  Manjunath Vadmal  1439.90\n",
              "1  2016-02-15     Robert Caputo  5472.11\n",
              "2  2016-02-15       Susan Jones     0.00\n",
              "3  2016-02-16  Manjunath Vadmal  3859.97\n",
              "4  2016-02-16     Robert Caputo  3248.52"
            ]
          },
          "metadata": {
            "tags": []
          },
          "execution_count": 2
        }
      ]
    },
    {
      "cell_type": "code",
      "metadata": {
        "id": "qPuoZej7E07T",
        "colab_type": "code",
        "outputId": "c94d9944-9847-48b2-d504-237c80e40516",
        "colab": {
          "base_uri": "https://localhost:8080/",
          "height": 206
        }
      },
      "source": [
        "df_doc.tail()"
      ],
      "execution_count": 3,
      "outputs": [
        {
          "output_type": "execute_result",
          "data": {
            "text/html": [
              "<div>\n",
              "<style scoped>\n",
              "    .dataframe tbody tr th:only-of-type {\n",
              "        vertical-align: middle;\n",
              "    }\n",
              "\n",
              "    .dataframe tbody tr th {\n",
              "        vertical-align: top;\n",
              "    }\n",
              "\n",
              "    .dataframe thead th {\n",
              "        text-align: right;\n",
              "    }\n",
              "</style>\n",
              "<table border=\"1\" class=\"dataframe\">\n",
              "  <thead>\n",
              "    <tr style=\"text-align: right;\">\n",
              "      <th></th>\n",
              "      <th>ds</th>\n",
              "      <th>cat</th>\n",
              "      <th>y</th>\n",
              "    </tr>\n",
              "  </thead>\n",
              "  <tbody>\n",
              "    <tr>\n",
              "      <th>4162</th>\n",
              "      <td>2019-12-03</td>\n",
              "      <td>Robert Caputo</td>\n",
              "      <td>8249.79</td>\n",
              "    </tr>\n",
              "    <tr>\n",
              "      <th>4163</th>\n",
              "      <td>2019-12-03</td>\n",
              "      <td>Susan Jones</td>\n",
              "      <td>2074.93</td>\n",
              "    </tr>\n",
              "    <tr>\n",
              "      <th>4164</th>\n",
              "      <td>2019-12-04</td>\n",
              "      <td>Manjunath Vadmal</td>\n",
              "      <td>5767.96</td>\n",
              "    </tr>\n",
              "    <tr>\n",
              "      <th>4165</th>\n",
              "      <td>2019-12-04</td>\n",
              "      <td>Robert Caputo</td>\n",
              "      <td>0.00</td>\n",
              "    </tr>\n",
              "    <tr>\n",
              "      <th>4166</th>\n",
              "      <td>2019-12-04</td>\n",
              "      <td>Susan Jones</td>\n",
              "      <td>0.00</td>\n",
              "    </tr>\n",
              "  </tbody>\n",
              "</table>\n",
              "</div>"
            ],
            "text/plain": [
              "              ds               cat        y\n",
              "4162  2019-12-03     Robert Caputo  8249.79\n",
              "4163  2019-12-03       Susan Jones  2074.93\n",
              "4164  2019-12-04  Manjunath Vadmal  5767.96\n",
              "4165  2019-12-04     Robert Caputo     0.00\n",
              "4166  2019-12-04       Susan Jones     0.00"
            ]
          },
          "metadata": {
            "tags": []
          },
          "execution_count": 3
        }
      ]
    },
    {
      "cell_type": "code",
      "metadata": {
        "id": "v-gQtn9nFp9q",
        "colab_type": "code",
        "outputId": "26c2a4c9-21ad-48fe-f2da-d49bbc5e6e88",
        "colab": {
          "base_uri": "https://localhost:8080/",
          "height": 36
        }
      },
      "source": [
        "df_doc.shape"
      ],
      "execution_count": 4,
      "outputs": [
        {
          "output_type": "execute_result",
          "data": {
            "text/plain": [
              "(4167, 3)"
            ]
          },
          "metadata": {
            "tags": []
          },
          "execution_count": 4
        }
      ]
    },
    {
      "cell_type": "code",
      "metadata": {
        "id": "HdN5oU6SF6Eu",
        "colab_type": "code",
        "outputId": "90dfc9da-6fcd-406b-c16f-64697903b4ce",
        "colab": {
          "base_uri": "https://localhost:8080/",
          "height": 166
        }
      },
      "source": [
        "df_doc.info()"
      ],
      "execution_count": 5,
      "outputs": [
        {
          "output_type": "stream",
          "text": [
            "<class 'pandas.core.frame.DataFrame'>\n",
            "RangeIndex: 4167 entries, 0 to 4166\n",
            "Data columns (total 3 columns):\n",
            "ds     4167 non-null object\n",
            "cat    4167 non-null object\n",
            "y      4167 non-null float64\n",
            "dtypes: float64(1), object(2)\n",
            "memory usage: 97.8+ KB\n"
          ],
          "name": "stdout"
        }
      ]
    },
    {
      "cell_type": "code",
      "metadata": {
        "id": "IMr4BG39GArr",
        "colab_type": "code",
        "colab": {}
      },
      "source": [
        "df_doc['ds']=pd.to_datetime(df_doc['ds'])"
      ],
      "execution_count": 0,
      "outputs": []
    },
    {
      "cell_type": "code",
      "metadata": {
        "id": "9XDqRbRwGE6q",
        "colab_type": "code",
        "outputId": "1b564146-0662-402e-d3e4-9d2dadc05049",
        "colab": {
          "base_uri": "https://localhost:8080/",
          "height": 166
        }
      },
      "source": [
        "df_doc.info()"
      ],
      "execution_count": 7,
      "outputs": [
        {
          "output_type": "stream",
          "text": [
            "<class 'pandas.core.frame.DataFrame'>\n",
            "RangeIndex: 4167 entries, 0 to 4166\n",
            "Data columns (total 3 columns):\n",
            "ds     4167 non-null datetime64[ns]\n",
            "cat    4167 non-null object\n",
            "y      4167 non-null float64\n",
            "dtypes: datetime64[ns](1), float64(1), object(1)\n",
            "memory usage: 97.8+ KB\n"
          ],
          "name": "stdout"
        }
      ]
    },
    {
      "cell_type": "markdown",
      "metadata": {
        "id": "OZyy_3ymGpDM",
        "colab_type": "text"
      },
      "source": [
        "Filter by"
      ]
    },
    {
      "cell_type": "code",
      "metadata": {
        "id": "OHpD7dNJGI0L",
        "colab_type": "code",
        "outputId": "d57ce9c2-b495-4162-d475-e555ce0e98cc",
        "colab": {
          "base_uri": "https://localhost:8080/",
          "height": 36
        }
      },
      "source": [
        "name_doc = 'Robert Caputo'\n",
        "df_filter = df_doc[df_doc['cat'] == name_doc][['ds','y']]\n",
        "df_filter.shape"
      ],
      "execution_count": 8,
      "outputs": [
        {
          "output_type": "execute_result",
          "data": {
            "text/plain": [
              "(1389, 2)"
            ]
          },
          "metadata": {
            "tags": []
          },
          "execution_count": 8
        }
      ]
    },
    {
      "cell_type": "code",
      "metadata": {
        "id": "9ExDGvQ9GfSs",
        "colab_type": "code",
        "outputId": "2cae6e58-2255-4ca5-e117-3adc516ae096",
        "colab": {
          "base_uri": "https://localhost:8080/",
          "height": 206
        }
      },
      "source": [
        "df_filter.head()"
      ],
      "execution_count": 9,
      "outputs": [
        {
          "output_type": "execute_result",
          "data": {
            "text/html": [
              "<div>\n",
              "<style scoped>\n",
              "    .dataframe tbody tr th:only-of-type {\n",
              "        vertical-align: middle;\n",
              "    }\n",
              "\n",
              "    .dataframe tbody tr th {\n",
              "        vertical-align: top;\n",
              "    }\n",
              "\n",
              "    .dataframe thead th {\n",
              "        text-align: right;\n",
              "    }\n",
              "</style>\n",
              "<table border=\"1\" class=\"dataframe\">\n",
              "  <thead>\n",
              "    <tr style=\"text-align: right;\">\n",
              "      <th></th>\n",
              "      <th>ds</th>\n",
              "      <th>y</th>\n",
              "    </tr>\n",
              "  </thead>\n",
              "  <tbody>\n",
              "    <tr>\n",
              "      <th>1</th>\n",
              "      <td>2016-02-15</td>\n",
              "      <td>5472.11</td>\n",
              "    </tr>\n",
              "    <tr>\n",
              "      <th>4</th>\n",
              "      <td>2016-02-16</td>\n",
              "      <td>3248.52</td>\n",
              "    </tr>\n",
              "    <tr>\n",
              "      <th>7</th>\n",
              "      <td>2016-02-17</td>\n",
              "      <td>4977.18</td>\n",
              "    </tr>\n",
              "    <tr>\n",
              "      <th>10</th>\n",
              "      <td>2016-02-18</td>\n",
              "      <td>5482.26</td>\n",
              "    </tr>\n",
              "    <tr>\n",
              "      <th>13</th>\n",
              "      <td>2016-02-19</td>\n",
              "      <td>5495.88</td>\n",
              "    </tr>\n",
              "  </tbody>\n",
              "</table>\n",
              "</div>"
            ],
            "text/plain": [
              "           ds        y\n",
              "1  2016-02-15  5472.11\n",
              "4  2016-02-16  3248.52\n",
              "7  2016-02-17  4977.18\n",
              "10 2016-02-18  5482.26\n",
              "13 2016-02-19  5495.88"
            ]
          },
          "metadata": {
            "tags": []
          },
          "execution_count": 9
        }
      ]
    },
    {
      "cell_type": "code",
      "metadata": {
        "id": "mM42v58qGrAp",
        "colab_type": "code",
        "outputId": "bb5e15d3-44b7-4a27-d7e1-c89e0f8d8046",
        "colab": {
          "base_uri": "https://localhost:8080/",
          "height": 206
        }
      },
      "source": [
        "df_filter.tail()"
      ],
      "execution_count": 10,
      "outputs": [
        {
          "output_type": "execute_result",
          "data": {
            "text/html": [
              "<div>\n",
              "<style scoped>\n",
              "    .dataframe tbody tr th:only-of-type {\n",
              "        vertical-align: middle;\n",
              "    }\n",
              "\n",
              "    .dataframe tbody tr th {\n",
              "        vertical-align: top;\n",
              "    }\n",
              "\n",
              "    .dataframe thead th {\n",
              "        text-align: right;\n",
              "    }\n",
              "</style>\n",
              "<table border=\"1\" class=\"dataframe\">\n",
              "  <thead>\n",
              "    <tr style=\"text-align: right;\">\n",
              "      <th></th>\n",
              "      <th>ds</th>\n",
              "      <th>y</th>\n",
              "    </tr>\n",
              "  </thead>\n",
              "  <tbody>\n",
              "    <tr>\n",
              "      <th>4153</th>\n",
              "      <td>2019-11-30</td>\n",
              "      <td>0.00</td>\n",
              "    </tr>\n",
              "    <tr>\n",
              "      <th>4156</th>\n",
              "      <td>2019-12-01</td>\n",
              "      <td>0.00</td>\n",
              "    </tr>\n",
              "    <tr>\n",
              "      <th>4159</th>\n",
              "      <td>2019-12-02</td>\n",
              "      <td>7375.55</td>\n",
              "    </tr>\n",
              "    <tr>\n",
              "      <th>4162</th>\n",
              "      <td>2019-12-03</td>\n",
              "      <td>8249.79</td>\n",
              "    </tr>\n",
              "    <tr>\n",
              "      <th>4165</th>\n",
              "      <td>2019-12-04</td>\n",
              "      <td>0.00</td>\n",
              "    </tr>\n",
              "  </tbody>\n",
              "</table>\n",
              "</div>"
            ],
            "text/plain": [
              "             ds        y\n",
              "4153 2019-11-30     0.00\n",
              "4156 2019-12-01     0.00\n",
              "4159 2019-12-02  7375.55\n",
              "4162 2019-12-03  8249.79\n",
              "4165 2019-12-04     0.00"
            ]
          },
          "metadata": {
            "tags": []
          },
          "execution_count": 10
        }
      ]
    },
    {
      "cell_type": "markdown",
      "metadata": {
        "id": "I5qKzP1aGtXD",
        "colab_type": "text"
      },
      "source": [
        "Split"
      ]
    },
    {
      "cell_type": "code",
      "metadata": {
        "id": "oomhuyJaGygc",
        "colab_type": "code",
        "outputId": "52e92125-72a7-4785-c8ca-2cc059e65783",
        "colab": {
          "base_uri": "https://localhost:8080/",
          "height": 54
        }
      },
      "source": [
        "div = 0.98\n",
        "split_point = int(df_filter.shape[0] * div)\n",
        "train = df_filter[:split_point]\n",
        "test = df_filter[split_point:]\n",
        "print(train.shape)\n",
        "print(test.shape)"
      ],
      "execution_count": 11,
      "outputs": [
        {
          "output_type": "stream",
          "text": [
            "(1361, 2)\n",
            "(28, 2)\n"
          ],
          "name": "stdout"
        }
      ]
    },
    {
      "cell_type": "code",
      "metadata": {
        "id": "v0-KxoERHWkU",
        "colab_type": "code",
        "outputId": "69beca8b-bd39-4072-b3b6-05c9f0200110",
        "colab": {
          "base_uri": "https://localhost:8080/",
          "height": 206
        }
      },
      "source": [
        "train.tail()"
      ],
      "execution_count": 12,
      "outputs": [
        {
          "output_type": "execute_result",
          "data": {
            "text/html": [
              "<div>\n",
              "<style scoped>\n",
              "    .dataframe tbody tr th:only-of-type {\n",
              "        vertical-align: middle;\n",
              "    }\n",
              "\n",
              "    .dataframe tbody tr th {\n",
              "        vertical-align: top;\n",
              "    }\n",
              "\n",
              "    .dataframe thead th {\n",
              "        text-align: right;\n",
              "    }\n",
              "</style>\n",
              "<table border=\"1\" class=\"dataframe\">\n",
              "  <thead>\n",
              "    <tr style=\"text-align: right;\">\n",
              "      <th></th>\n",
              "      <th>ds</th>\n",
              "      <th>y</th>\n",
              "    </tr>\n",
              "  </thead>\n",
              "  <tbody>\n",
              "    <tr>\n",
              "      <th>4069</th>\n",
              "      <td>2019-11-02</td>\n",
              "      <td>2878.59</td>\n",
              "    </tr>\n",
              "    <tr>\n",
              "      <th>4072</th>\n",
              "      <td>2019-11-03</td>\n",
              "      <td>0.00</td>\n",
              "    </tr>\n",
              "    <tr>\n",
              "      <th>4075</th>\n",
              "      <td>2019-11-04</td>\n",
              "      <td>3153.26</td>\n",
              "    </tr>\n",
              "    <tr>\n",
              "      <th>4078</th>\n",
              "      <td>2019-11-05</td>\n",
              "      <td>3344.61</td>\n",
              "    </tr>\n",
              "    <tr>\n",
              "      <th>4081</th>\n",
              "      <td>2019-11-06</td>\n",
              "      <td>5002.10</td>\n",
              "    </tr>\n",
              "  </tbody>\n",
              "</table>\n",
              "</div>"
            ],
            "text/plain": [
              "             ds        y\n",
              "4069 2019-11-02  2878.59\n",
              "4072 2019-11-03     0.00\n",
              "4075 2019-11-04  3153.26\n",
              "4078 2019-11-05  3344.61\n",
              "4081 2019-11-06  5002.10"
            ]
          },
          "metadata": {
            "tags": []
          },
          "execution_count": 12
        }
      ]
    },
    {
      "cell_type": "code",
      "metadata": {
        "id": "uFZbJszIHYzj",
        "colab_type": "code",
        "outputId": "61e4fefe-133f-4ea1-d7b9-e5bf27192de2",
        "colab": {
          "base_uri": "https://localhost:8080/",
          "height": 206
        }
      },
      "source": [
        "test.head()"
      ],
      "execution_count": 13,
      "outputs": [
        {
          "output_type": "execute_result",
          "data": {
            "text/html": [
              "<div>\n",
              "<style scoped>\n",
              "    .dataframe tbody tr th:only-of-type {\n",
              "        vertical-align: middle;\n",
              "    }\n",
              "\n",
              "    .dataframe tbody tr th {\n",
              "        vertical-align: top;\n",
              "    }\n",
              "\n",
              "    .dataframe thead th {\n",
              "        text-align: right;\n",
              "    }\n",
              "</style>\n",
              "<table border=\"1\" class=\"dataframe\">\n",
              "  <thead>\n",
              "    <tr style=\"text-align: right;\">\n",
              "      <th></th>\n",
              "      <th>ds</th>\n",
              "      <th>y</th>\n",
              "    </tr>\n",
              "  </thead>\n",
              "  <tbody>\n",
              "    <tr>\n",
              "      <th>4084</th>\n",
              "      <td>2019-11-07</td>\n",
              "      <td>2661.83</td>\n",
              "    </tr>\n",
              "    <tr>\n",
              "      <th>4087</th>\n",
              "      <td>2019-11-08</td>\n",
              "      <td>2913.06</td>\n",
              "    </tr>\n",
              "    <tr>\n",
              "      <th>4090</th>\n",
              "      <td>2019-11-09</td>\n",
              "      <td>5610.42</td>\n",
              "    </tr>\n",
              "    <tr>\n",
              "      <th>4093</th>\n",
              "      <td>2019-11-10</td>\n",
              "      <td>0.00</td>\n",
              "    </tr>\n",
              "    <tr>\n",
              "      <th>4096</th>\n",
              "      <td>2019-11-11</td>\n",
              "      <td>6949.18</td>\n",
              "    </tr>\n",
              "  </tbody>\n",
              "</table>\n",
              "</div>"
            ],
            "text/plain": [
              "             ds        y\n",
              "4084 2019-11-07  2661.83\n",
              "4087 2019-11-08  2913.06\n",
              "4090 2019-11-09  5610.42\n",
              "4093 2019-11-10     0.00\n",
              "4096 2019-11-11  6949.18"
            ]
          },
          "metadata": {
            "tags": []
          },
          "execution_count": 13
        }
      ]
    },
    {
      "cell_type": "code",
      "metadata": {
        "id": "UM2uFXsDHg0s",
        "colab_type": "code",
        "outputId": "f48e7305-b54a-486c-db36-0ce3656f0216",
        "colab": {
          "base_uri": "https://localhost:8080/",
          "height": 73
        }
      },
      "source": [
        "m = Prophet()\n",
        "m.fit(train)"
      ],
      "execution_count": 14,
      "outputs": [
        {
          "output_type": "stream",
          "text": [
            "INFO:numexpr.utils:NumExpr defaulting to 2 threads.\n",
            "INFO:fbprophet:Disabling daily seasonality. Run prophet with daily_seasonality=True to override this.\n"
          ],
          "name": "stderr"
        },
        {
          "output_type": "execute_result",
          "data": {
            "text/plain": [
              "<fbprophet.forecaster.Prophet at 0x7f0316a9ecf8>"
            ]
          },
          "metadata": {
            "tags": []
          },
          "execution_count": 14
        }
      ]
    },
    {
      "cell_type": "code",
      "metadata": {
        "id": "kAN41PREHj81",
        "colab_type": "code",
        "outputId": "ad88a068-1bb7-4999-eaff-7b22b48a4c6c",
        "colab": {
          "base_uri": "https://localhost:8080/",
          "height": 424
        }
      },
      "source": [
        "future = m.make_future_dataframe(periods=28, freq='d')\n",
        "forecast = m.predict(future)\n",
        "forecast[['ds', 'yhat', 'yhat_lower', 'yhat_upper']]"
      ],
      "execution_count": 15,
      "outputs": [
        {
          "output_type": "execute_result",
          "data": {
            "text/html": [
              "<div>\n",
              "<style scoped>\n",
              "    .dataframe tbody tr th:only-of-type {\n",
              "        vertical-align: middle;\n",
              "    }\n",
              "\n",
              "    .dataframe tbody tr th {\n",
              "        vertical-align: top;\n",
              "    }\n",
              "\n",
              "    .dataframe thead th {\n",
              "        text-align: right;\n",
              "    }\n",
              "</style>\n",
              "<table border=\"1\" class=\"dataframe\">\n",
              "  <thead>\n",
              "    <tr style=\"text-align: right;\">\n",
              "      <th></th>\n",
              "      <th>ds</th>\n",
              "      <th>yhat</th>\n",
              "      <th>yhat_lower</th>\n",
              "      <th>yhat_upper</th>\n",
              "    </tr>\n",
              "  </thead>\n",
              "  <tbody>\n",
              "    <tr>\n",
              "      <th>0</th>\n",
              "      <td>2016-02-15</td>\n",
              "      <td>5078.114862</td>\n",
              "      <td>3498.807587</td>\n",
              "      <td>6756.556787</td>\n",
              "    </tr>\n",
              "    <tr>\n",
              "      <th>1</th>\n",
              "      <td>2016-02-16</td>\n",
              "      <td>4851.658507</td>\n",
              "      <td>3199.792180</td>\n",
              "      <td>6499.221200</td>\n",
              "    </tr>\n",
              "    <tr>\n",
              "      <th>2</th>\n",
              "      <td>2016-02-17</td>\n",
              "      <td>5165.598418</td>\n",
              "      <td>3495.734127</td>\n",
              "      <td>6804.152479</td>\n",
              "    </tr>\n",
              "    <tr>\n",
              "      <th>3</th>\n",
              "      <td>2016-02-18</td>\n",
              "      <td>4811.310113</td>\n",
              "      <td>3247.137911</td>\n",
              "      <td>6491.747675</td>\n",
              "    </tr>\n",
              "    <tr>\n",
              "      <th>4</th>\n",
              "      <td>2016-02-19</td>\n",
              "      <td>4982.474956</td>\n",
              "      <td>3263.086555</td>\n",
              "      <td>6492.241744</td>\n",
              "    </tr>\n",
              "    <tr>\n",
              "      <th>...</th>\n",
              "      <td>...</td>\n",
              "      <td>...</td>\n",
              "      <td>...</td>\n",
              "      <td>...</td>\n",
              "    </tr>\n",
              "    <tr>\n",
              "      <th>1384</th>\n",
              "      <td>2019-11-30</td>\n",
              "      <td>2123.637565</td>\n",
              "      <td>486.051512</td>\n",
              "      <td>3807.915736</td>\n",
              "    </tr>\n",
              "    <tr>\n",
              "      <th>1385</th>\n",
              "      <td>2019-12-01</td>\n",
              "      <td>303.902602</td>\n",
              "      <td>-1322.561924</td>\n",
              "      <td>1920.342538</td>\n",
              "    </tr>\n",
              "    <tr>\n",
              "      <th>1386</th>\n",
              "      <td>2019-12-02</td>\n",
              "      <td>5245.309005</td>\n",
              "      <td>3629.332413</td>\n",
              "      <td>7023.419606</td>\n",
              "    </tr>\n",
              "    <tr>\n",
              "      <th>1387</th>\n",
              "      <td>2019-12-03</td>\n",
              "      <td>5044.407875</td>\n",
              "      <td>3520.264963</td>\n",
              "      <td>6630.799048</td>\n",
              "    </tr>\n",
              "    <tr>\n",
              "      <th>1388</th>\n",
              "      <td>2019-12-04</td>\n",
              "      <td>5377.172176</td>\n",
              "      <td>3715.264428</td>\n",
              "      <td>7007.539683</td>\n",
              "    </tr>\n",
              "  </tbody>\n",
              "</table>\n",
              "<p>1389 rows × 4 columns</p>\n",
              "</div>"
            ],
            "text/plain": [
              "             ds         yhat   yhat_lower   yhat_upper\n",
              "0    2016-02-15  5078.114862  3498.807587  6756.556787\n",
              "1    2016-02-16  4851.658507  3199.792180  6499.221200\n",
              "2    2016-02-17  5165.598418  3495.734127  6804.152479\n",
              "3    2016-02-18  4811.310113  3247.137911  6491.747675\n",
              "4    2016-02-19  4982.474956  3263.086555  6492.241744\n",
              "...         ...          ...          ...          ...\n",
              "1384 2019-11-30  2123.637565   486.051512  3807.915736\n",
              "1385 2019-12-01   303.902602 -1322.561924  1920.342538\n",
              "1386 2019-12-02  5245.309005  3629.332413  7023.419606\n",
              "1387 2019-12-03  5044.407875  3520.264963  6630.799048\n",
              "1388 2019-12-04  5377.172176  3715.264428  7007.539683\n",
              "\n",
              "[1389 rows x 4 columns]"
            ]
          },
          "metadata": {
            "tags": []
          },
          "execution_count": 15
        }
      ]
    },
    {
      "cell_type": "code",
      "metadata": {
        "id": "b0nk1pcCHzpD",
        "colab_type": "code",
        "outputId": "f9d1569a-cee7-4c3f-a3be-70d3d89599ed",
        "colab": {
          "base_uri": "https://localhost:8080/",
          "height": 653
        }
      },
      "source": [
        "forecast[['ds', 'yhat', 'yhat_lower', 'yhat_upper']].shapefig_decompose = m.plot_components(forecast)"
      ],
      "execution_count": 16,
      "outputs": [
        {
          "output_type": "display_data",
          "data": {
            "image/png": "[encoded data removed]",
            "text/plain": [
              "<Figure size 648x648 with 3 Axes>"
            ]
          },
          "metadata": {
            "tags": []
          }
        }
      ]
    },
    {
      "cell_type": "code",
      "metadata": {
        "id": "C8AbaYPqH9wF",
        "colab_type": "code",
        "outputId": "70961f6f-d0fd-4a71-e34d-2aed8f2b1725",
        "colab": {
          "base_uri": "https://localhost:8080/",
          "height": 444
        }
      },
      "source": [
        "forecast"
      ],
      "execution_count": 20,
      "outputs": [
        {
          "output_type": "execute_result",
          "data": {
            "text/html": [
              "<div>\n",
              "<style scoped>\n",
              "    .dataframe tbody tr th:only-of-type {\n",
              "        vertical-align: middle;\n",
              "    }\n",
              "\n",
              "    .dataframe tbody tr th {\n",
              "        vertical-align: top;\n",
              "    }\n",
              "\n",
              "    .dataframe thead th {\n",
              "        text-align: right;\n",
              "    }\n",
              "</style>\n",
              "<table border=\"1\" class=\"dataframe\">\n",
              "  <thead>\n",
              "    <tr style=\"text-align: right;\">\n",
              "      <th></th>\n",
              "      <th>ds</th>\n",
              "      <th>trend</th>\n",
              "      <th>yhat_lower</th>\n",
              "      <th>yhat_upper</th>\n",
              "      <th>trend_lower</th>\n",
              "      <th>trend_upper</th>\n",
              "      <th>additive_terms</th>\n",
              "      <th>additive_terms_lower</th>\n",
              "      <th>additive_terms_upper</th>\n",
              "      <th>weekly</th>\n",
              "      <th>weekly_lower</th>\n",
              "      <th>weekly_upper</th>\n",
              "      <th>yearly</th>\n",
              "      <th>yearly_lower</th>\n",
              "      <th>yearly_upper</th>\n",
              "      <th>multiplicative_terms</th>\n",
              "      <th>multiplicative_terms_lower</th>\n",
              "      <th>multiplicative_terms_upper</th>\n",
              "      <th>yhat</th>\n",
              "    </tr>\n",
              "  </thead>\n",
              "  <tbody>\n",
              "    <tr>\n",
              "      <th>0</th>\n",
              "      <td>2016-02-15</td>\n",
              "      <td>3936.962352</td>\n",
              "      <td>3498.807587</td>\n",
              "      <td>6756.556787</td>\n",
              "      <td>3936.962352</td>\n",
              "      <td>3936.962352</td>\n",
              "      <td>1141.152510</td>\n",
              "      <td>1141.152510</td>\n",
              "      <td>1141.152510</td>\n",
              "      <td>1217.042551</td>\n",
              "      <td>1217.042551</td>\n",
              "      <td>1217.042551</td>\n",
              "      <td>-75.890041</td>\n",
              "      <td>-75.890041</td>\n",
              "      <td>-75.890041</td>\n",
              "      <td>0.0</td>\n",
              "      <td>0.0</td>\n",
              "      <td>0.0</td>\n",
              "      <td>5078.114862</td>\n",
              "    </tr>\n",
              "    <tr>\n",
              "      <th>1</th>\n",
              "      <td>2016-02-16</td>\n",
              "      <td>3936.440787</td>\n",
              "      <td>3199.792180</td>\n",
              "      <td>6499.221200</td>\n",
              "      <td>3936.440787</td>\n",
              "      <td>3936.440787</td>\n",
              "      <td>915.217721</td>\n",
              "      <td>915.217721</td>\n",
              "      <td>915.217721</td>\n",
              "      <td>985.884817</td>\n",
              "      <td>985.884817</td>\n",
              "      <td>985.884817</td>\n",
              "      <td>-70.667096</td>\n",
              "      <td>-70.667096</td>\n",
              "      <td>-70.667096</td>\n",
              "      <td>0.0</td>\n",
              "      <td>0.0</td>\n",
              "      <td>0.0</td>\n",
              "      <td>4851.658507</td>\n",
              "    </tr>\n",
              "    <tr>\n",
              "      <th>2</th>\n",
              "      <td>2016-02-17</td>\n",
              "      <td>3935.919221</td>\n",
              "      <td>3495.734127</td>\n",
              "      <td>6804.152479</td>\n",
              "      <td>3935.919221</td>\n",
              "      <td>3935.919221</td>\n",
              "      <td>1229.679197</td>\n",
              "      <td>1229.679197</td>\n",
              "      <td>1229.679197</td>\n",
              "      <td>1293.463709</td>\n",
              "      <td>1293.463709</td>\n",
              "      <td>1293.463709</td>\n",
              "      <td>-63.784512</td>\n",
              "      <td>-63.784512</td>\n",
              "      <td>-63.784512</td>\n",
              "      <td>0.0</td>\n",
              "      <td>0.0</td>\n",
              "      <td>0.0</td>\n",
              "      <td>5165.598418</td>\n",
              "    </tr>\n",
              "    <tr>\n",
              "      <th>3</th>\n",
              "      <td>2016-02-18</td>\n",
              "      <td>3935.397655</td>\n",
              "      <td>3247.137911</td>\n",
              "      <td>6491.747675</td>\n",
              "      <td>3935.397655</td>\n",
              "      <td>3935.397655</td>\n",
              "      <td>875.912458</td>\n",
              "      <td>875.912458</td>\n",
              "      <td>875.912458</td>\n",
              "      <td>931.483266</td>\n",
              "      <td>931.483266</td>\n",
              "      <td>931.483266</td>\n",
              "      <td>-55.570808</td>\n",
              "      <td>-55.570808</td>\n",
              "      <td>-55.570808</td>\n",
              "      <td>0.0</td>\n",
              "      <td>0.0</td>\n",
              "      <td>0.0</td>\n",
              "      <td>4811.310113</td>\n",
              "    </tr>\n",
              "    <tr>\n",
              "      <th>4</th>\n",
              "      <td>2016-02-19</td>\n",
              "      <td>3934.876090</td>\n",
              "      <td>3263.086555</td>\n",
              "      <td>6492.241744</td>\n",
              "      <td>3934.876090</td>\n",
              "      <td>3934.876090</td>\n",
              "      <td>1047.598866</td>\n",
              "      <td>1047.598866</td>\n",
              "      <td>1047.598866</td>\n",
              "      <td>1093.965029</td>\n",
              "      <td>1093.965029</td>\n",
              "      <td>1093.965029</td>\n",
              "      <td>-46.366163</td>\n",
              "      <td>-46.366163</td>\n",
              "      <td>-46.366163</td>\n",
              "      <td>0.0</td>\n",
              "      <td>0.0</td>\n",
              "      <td>0.0</td>\n",
              "      <td>4982.474956</td>\n",
              "    </tr>\n",
              "    <tr>\n",
              "      <th>...</th>\n",
              "      <td>...</td>\n",
              "      <td>...</td>\n",
              "      <td>...</td>\n",
              "      <td>...</td>\n",
              "      <td>...</td>\n",
              "      <td>...</td>\n",
              "      <td>...</td>\n",
              "      <td>...</td>\n",
              "      <td>...</td>\n",
              "      <td>...</td>\n",
              "      <td>...</td>\n",
              "      <td>...</td>\n",
              "      <td>...</td>\n",
              "      <td>...</td>\n",
              "      <td>...</td>\n",
              "      <td>...</td>\n",
              "      <td>...</td>\n",
              "      <td>...</td>\n",
              "      <td>...</td>\n",
              "    </tr>\n",
              "    <tr>\n",
              "      <th>1384</th>\n",
              "      <td>2019-11-30</td>\n",
              "      <td>3872.712916</td>\n",
              "      <td>486.051512</td>\n",
              "      <td>3807.915736</td>\n",
              "      <td>3872.381094</td>\n",
              "      <td>3872.914154</td>\n",
              "      <td>-1749.075351</td>\n",
              "      <td>-1749.075351</td>\n",
              "      <td>-1749.075351</td>\n",
              "      <td>-1832.041585</td>\n",
              "      <td>-1832.041585</td>\n",
              "      <td>-1832.041585</td>\n",
              "      <td>82.966234</td>\n",
              "      <td>82.966234</td>\n",
              "      <td>82.966234</td>\n",
              "      <td>0.0</td>\n",
              "      <td>0.0</td>\n",
              "      <td>0.0</td>\n",
              "      <td>2123.637565</td>\n",
              "    </tr>\n",
              "    <tr>\n",
              "      <th>1385</th>\n",
              "      <td>2019-12-01</td>\n",
              "      <td>3873.601049</td>\n",
              "      <td>-1322.561924</td>\n",
              "      <td>1920.342538</td>\n",
              "      <td>3873.224512</td>\n",
              "      <td>3873.865716</td>\n",
              "      <td>-3569.698448</td>\n",
              "      <td>-3569.698448</td>\n",
              "      <td>-3569.698448</td>\n",
              "      <td>-3689.797787</td>\n",
              "      <td>-3689.797787</td>\n",
              "      <td>-3689.797787</td>\n",
              "      <td>120.099340</td>\n",
              "      <td>120.099340</td>\n",
              "      <td>120.099340</td>\n",
              "      <td>0.0</td>\n",
              "      <td>0.0</td>\n",
              "      <td>0.0</td>\n",
              "      <td>303.902602</td>\n",
              "    </tr>\n",
              "    <tr>\n",
              "      <th>1386</th>\n",
              "      <td>2019-12-02</td>\n",
              "      <td>3874.489182</td>\n",
              "      <td>3629.332413</td>\n",
              "      <td>7023.419606</td>\n",
              "      <td>3874.056152</td>\n",
              "      <td>3874.803539</td>\n",
              "      <td>1370.819823</td>\n",
              "      <td>1370.819823</td>\n",
              "      <td>1370.819823</td>\n",
              "      <td>1217.042551</td>\n",
              "      <td>1217.042551</td>\n",
              "      <td>1217.042551</td>\n",
              "      <td>153.777271</td>\n",
              "      <td>153.777271</td>\n",
              "      <td>153.777271</td>\n",
              "      <td>0.0</td>\n",
              "      <td>0.0</td>\n",
              "      <td>0.0</td>\n",
              "      <td>5245.309005</td>\n",
              "    </tr>\n",
              "    <tr>\n",
              "      <th>1387</th>\n",
              "      <td>2019-12-03</td>\n",
              "      <td>3875.377315</td>\n",
              "      <td>3520.264963</td>\n",
              "      <td>6630.799048</td>\n",
              "      <td>3874.906367</td>\n",
              "      <td>3875.735108</td>\n",
              "      <td>1169.030560</td>\n",
              "      <td>1169.030560</td>\n",
              "      <td>1169.030560</td>\n",
              "      <td>985.884817</td>\n",
              "      <td>985.884817</td>\n",
              "      <td>985.884817</td>\n",
              "      <td>183.145743</td>\n",
              "      <td>183.145743</td>\n",
              "      <td>183.145743</td>\n",
              "      <td>0.0</td>\n",
              "      <td>0.0</td>\n",
              "      <td>0.0</td>\n",
              "      <td>5044.407875</td>\n",
              "    </tr>\n",
              "    <tr>\n",
              "      <th>1388</th>\n",
              "      <td>2019-12-04</td>\n",
              "      <td>3876.265448</td>\n",
              "      <td>3715.264428</td>\n",
              "      <td>7007.539683</td>\n",
              "      <td>3875.767572</td>\n",
              "      <td>3876.660843</td>\n",
              "      <td>1500.906728</td>\n",
              "      <td>1500.906728</td>\n",
              "      <td>1500.906728</td>\n",
              "      <td>1293.463709</td>\n",
              "      <td>1293.463709</td>\n",
              "      <td>1293.463709</td>\n",
              "      <td>207.443019</td>\n",
              "      <td>207.443019</td>\n",
              "      <td>207.443019</td>\n",
              "      <td>0.0</td>\n",
              "      <td>0.0</td>\n",
              "      <td>0.0</td>\n",
              "      <td>5377.172176</td>\n",
              "    </tr>\n",
              "  </tbody>\n",
              "</table>\n",
              "<p>1389 rows × 19 columns</p>\n",
              "</div>"
            ],
            "text/plain": [
              "             ds        trend  ...  multiplicative_terms_upper         yhat\n",
              "0    2016-02-15  3936.962352  ...                         0.0  5078.114862\n",
              "1    2016-02-16  3936.440787  ...                         0.0  4851.658507\n",
              "2    2016-02-17  3935.919221  ...                         0.0  5165.598418\n",
              "3    2016-02-18  3935.397655  ...                         0.0  4811.310113\n",
              "4    2016-02-19  3934.876090  ...                         0.0  4982.474956\n",
              "...         ...          ...  ...                         ...          ...\n",
              "1384 2019-11-30  3872.712916  ...                         0.0  2123.637565\n",
              "1385 2019-12-01  3873.601049  ...                         0.0   303.902602\n",
              "1386 2019-12-02  3874.489182  ...                         0.0  5245.309005\n",
              "1387 2019-12-03  3875.377315  ...                         0.0  5044.407875\n",
              "1388 2019-12-04  3876.265448  ...                         0.0  5377.172176\n",
              "\n",
              "[1389 rows x 19 columns]"
            ]
          },
          "metadata": {
            "tags": []
          },
          "execution_count": 20
        }
      ]
    },
    {
      "cell_type": "code",
      "metadata": {
        "id": "UJbfNU_hH3--",
        "colab_type": "code",
        "outputId": "e95b21a3-6eeb-4f42-b203-4a2be633dfe7",
        "colab": {
          "base_uri": "https://localhost:8080/",
          "height": 437
        }
      },
      "source": [
        "fig = m.plot(forecast)"
      ],
      "execution_count": 18,
      "outputs": [
        {
          "output_type": "display_data",
          "data": {
            "image/png": "[encoded data removed]",
            "text/plain": [
              "<Figure size 720x432 with 1 Axes>"
            ]
          },
          "metadata": {
            "tags": []
          }
        }
      ]
    },
    {
      "cell_type": "code",
      "metadata": {
        "id": "OnVnhyYUI6uL",
        "colab_type": "code",
        "outputId": "83b9b823-5719-46bd-8482-975e41918331",
        "colab": {
          "base_uri": "https://localhost:8080/",
          "height": 653
        }
      },
      "source": [
        "fig_decompose = m.plot_components(forecast)"
      ],
      "execution_count": 19,
      "outputs": [
        {
          "output_type": "display_data",
          "data": {
            "image/png": "[encoded data removed]",
            "text/plain": [
              "<Figure size 648x648 with 3 Axes>"
            ]
          },
          "metadata": {
            "tags": []
          }
        }
      ]
    },
    {
      "cell_type": "code",
      "metadata": {
        "id": "wB07nhUUP1sQ",
        "colab_type": "code",
        "outputId": "9c4017f7-4273-487b-f853-f18601024fab",
        "colab": {
          "base_uri": "https://localhost:8080/",
          "height": 226
        }
      },
      "source": [
        "forecast[(forecast['ds'] >= '2019-11-26') & (forecast['ds'] <= '2019-11-30')]"
      ],
      "execution_count": 21,
      "outputs": [
        {
          "output_type": "execute_result",
          "data": {
            "text/html": [
              "<div>\n",
              "<style scoped>\n",
              "    .dataframe tbody tr th:only-of-type {\n",
              "        vertical-align: middle;\n",
              "    }\n",
              "\n",
              "    .dataframe tbody tr th {\n",
              "        vertical-align: top;\n",
              "    }\n",
              "\n",
              "    .dataframe thead th {\n",
              "        text-align: right;\n",
              "    }\n",
              "</style>\n",
              "<table border=\"1\" class=\"dataframe\">\n",
              "  <thead>\n",
              "    <tr style=\"text-align: right;\">\n",
              "      <th></th>\n",
              "      <th>ds</th>\n",
              "      <th>trend</th>\n",
              "      <th>yhat_lower</th>\n",
              "      <th>yhat_upper</th>\n",
              "      <th>trend_lower</th>\n",
              "      <th>trend_upper</th>\n",
              "      <th>additive_terms</th>\n",
              "      <th>additive_terms_lower</th>\n",
              "      <th>additive_terms_upper</th>\n",
              "      <th>weekly</th>\n",
              "      <th>weekly_lower</th>\n",
              "      <th>weekly_upper</th>\n",
              "      <th>yearly</th>\n",
              "      <th>yearly_lower</th>\n",
              "      <th>yearly_upper</th>\n",
              "      <th>multiplicative_terms</th>\n",
              "      <th>multiplicative_terms_lower</th>\n",
              "      <th>multiplicative_terms_upper</th>\n",
              "      <th>yhat</th>\n",
              "    </tr>\n",
              "  </thead>\n",
              "  <tbody>\n",
              "    <tr>\n",
              "      <th>1380</th>\n",
              "      <td>2019-11-26</td>\n",
              "      <td>3869.160385</td>\n",
              "      <td>2943.049672</td>\n",
              "      <td>6400.879760</td>\n",
              "      <td>3868.963201</td>\n",
              "      <td>3869.269591</td>\n",
              "      <td>904.995336</td>\n",
              "      <td>904.995336</td>\n",
              "      <td>904.995336</td>\n",
              "      <td>985.884817</td>\n",
              "      <td>985.884817</td>\n",
              "      <td>985.884817</td>\n",
              "      <td>-80.889480</td>\n",
              "      <td>-80.889480</td>\n",
              "      <td>-80.889480</td>\n",
              "      <td>0.0</td>\n",
              "      <td>0.0</td>\n",
              "      <td>0.0</td>\n",
              "      <td>4774.155721</td>\n",
              "    </tr>\n",
              "    <tr>\n",
              "      <th>1381</th>\n",
              "      <td>2019-11-27</td>\n",
              "      <td>3870.048518</td>\n",
              "      <td>3483.515138</td>\n",
              "      <td>6680.571255</td>\n",
              "      <td>3869.817124</td>\n",
              "      <td>3870.174897</td>\n",
              "      <td>1253.823791</td>\n",
              "      <td>1253.823791</td>\n",
              "      <td>1253.823791</td>\n",
              "      <td>1293.463709</td>\n",
              "      <td>1293.463709</td>\n",
              "      <td>1293.463709</td>\n",
              "      <td>-39.639919</td>\n",
              "      <td>-39.639919</td>\n",
              "      <td>-39.639919</td>\n",
              "      <td>0.0</td>\n",
              "      <td>0.0</td>\n",
              "      <td>0.0</td>\n",
              "      <td>5123.872308</td>\n",
              "    </tr>\n",
              "    <tr>\n",
              "      <th>1382</th>\n",
              "      <td>2019-11-28</td>\n",
              "      <td>3870.936650</td>\n",
              "      <td>3229.278224</td>\n",
              "      <td>6485.739212</td>\n",
              "      <td>3870.680778</td>\n",
              "      <td>3871.077369</td>\n",
              "      <td>933.582766</td>\n",
              "      <td>933.582766</td>\n",
              "      <td>933.582766</td>\n",
              "      <td>931.483266</td>\n",
              "      <td>931.483266</td>\n",
              "      <td>931.483266</td>\n",
              "      <td>2.099500</td>\n",
              "      <td>2.099500</td>\n",
              "      <td>2.099500</td>\n",
              "      <td>0.0</td>\n",
              "      <td>0.0</td>\n",
              "      <td>0.0</td>\n",
              "      <td>4804.519417</td>\n",
              "    </tr>\n",
              "    <tr>\n",
              "      <th>1383</th>\n",
              "      <td>2019-11-29</td>\n",
              "      <td>3871.824783</td>\n",
              "      <td>3334.924164</td>\n",
              "      <td>6597.848943</td>\n",
              "      <td>3871.515676</td>\n",
              "      <td>3871.988194</td>\n",
              "      <td>1137.270920</td>\n",
              "      <td>1137.270920</td>\n",
              "      <td>1137.270920</td>\n",
              "      <td>1093.965029</td>\n",
              "      <td>1093.965029</td>\n",
              "      <td>1093.965029</td>\n",
              "      <td>43.305891</td>\n",
              "      <td>43.305891</td>\n",
              "      <td>43.305891</td>\n",
              "      <td>0.0</td>\n",
              "      <td>0.0</td>\n",
              "      <td>0.0</td>\n",
              "      <td>5009.095703</td>\n",
              "    </tr>\n",
              "    <tr>\n",
              "      <th>1384</th>\n",
              "      <td>2019-11-30</td>\n",
              "      <td>3872.712916</td>\n",
              "      <td>486.051512</td>\n",
              "      <td>3807.915736</td>\n",
              "      <td>3872.381094</td>\n",
              "      <td>3872.914154</td>\n",
              "      <td>-1749.075351</td>\n",
              "      <td>-1749.075351</td>\n",
              "      <td>-1749.075351</td>\n",
              "      <td>-1832.041585</td>\n",
              "      <td>-1832.041585</td>\n",
              "      <td>-1832.041585</td>\n",
              "      <td>82.966234</td>\n",
              "      <td>82.966234</td>\n",
              "      <td>82.966234</td>\n",
              "      <td>0.0</td>\n",
              "      <td>0.0</td>\n",
              "      <td>0.0</td>\n",
              "      <td>2123.637565</td>\n",
              "    </tr>\n",
              "  </tbody>\n",
              "</table>\n",
              "</div>"
            ],
            "text/plain": [
              "             ds        trend  ...  multiplicative_terms_upper         yhat\n",
              "1380 2019-11-26  3869.160385  ...                         0.0  4774.155721\n",
              "1381 2019-11-27  3870.048518  ...                         0.0  5123.872308\n",
              "1382 2019-11-28  3870.936650  ...                         0.0  4804.519417\n",
              "1383 2019-11-29  3871.824783  ...                         0.0  5009.095703\n",
              "1384 2019-11-30  3872.712916  ...                         0.0  2123.637565\n",
              "\n",
              "[5 rows x 19 columns]"
            ]
          },
          "metadata": {
            "tags": []
          },
          "execution_count": 21
        }
      ]
    },
    {
      "cell_type": "code",
      "metadata": {
        "id": "ZMS_JuAGQTPE",
        "colab_type": "code",
        "outputId": "35e62101-cdf8-4823-d450-75d75cd38dfa",
        "colab": {
          "base_uri": "https://localhost:8080/",
          "height": 206
        }
      },
      "source": [
        "test[(test['ds'] >= '2019-11-26') & (test['ds'] <= '2019-11-30')]"
      ],
      "execution_count": 22,
      "outputs": [
        {
          "output_type": "execute_result",
          "data": {
            "text/html": [
              "<div>\n",
              "<style scoped>\n",
              "    .dataframe tbody tr th:only-of-type {\n",
              "        vertical-align: middle;\n",
              "    }\n",
              "\n",
              "    .dataframe tbody tr th {\n",
              "        vertical-align: top;\n",
              "    }\n",
              "\n",
              "    .dataframe thead th {\n",
              "        text-align: right;\n",
              "    }\n",
              "</style>\n",
              "<table border=\"1\" class=\"dataframe\">\n",
              "  <thead>\n",
              "    <tr style=\"text-align: right;\">\n",
              "      <th></th>\n",
              "      <th>ds</th>\n",
              "      <th>y</th>\n",
              "    </tr>\n",
              "  </thead>\n",
              "  <tbody>\n",
              "    <tr>\n",
              "      <th>4141</th>\n",
              "      <td>2019-11-26</td>\n",
              "      <td>7871.19</td>\n",
              "    </tr>\n",
              "    <tr>\n",
              "      <th>4144</th>\n",
              "      <td>2019-11-27</td>\n",
              "      <td>6131.85</td>\n",
              "    </tr>\n",
              "    <tr>\n",
              "      <th>4147</th>\n",
              "      <td>2019-11-28</td>\n",
              "      <td>0.00</td>\n",
              "    </tr>\n",
              "    <tr>\n",
              "      <th>4150</th>\n",
              "      <td>2019-11-29</td>\n",
              "      <td>0.00</td>\n",
              "    </tr>\n",
              "    <tr>\n",
              "      <th>4153</th>\n",
              "      <td>2019-11-30</td>\n",
              "      <td>0.00</td>\n",
              "    </tr>\n",
              "  </tbody>\n",
              "</table>\n",
              "</div>"
            ],
            "text/plain": [
              "             ds        y\n",
              "4141 2019-11-26  7871.19\n",
              "4144 2019-11-27  6131.85\n",
              "4147 2019-11-28     0.00\n",
              "4150 2019-11-29     0.00\n",
              "4153 2019-11-30     0.00"
            ]
          },
          "metadata": {
            "tags": []
          },
          "execution_count": 22
        }
      ]
    },
    {
      "cell_type": "code",
      "metadata": {
        "id": "2W93D-4FQ-WF",
        "colab_type": "code",
        "outputId": "60f5179c-eb71-4018-9fd7-b9dba2860cac",
        "colab": {
          "base_uri": "https://localhost:8080/",
          "height": 206
        }
      },
      "source": [
        "yhat = forecast[(forecast['ds'] >= '2019-07-02') & (forecast['ds'] <= '2019-07-06')][['ds','yhat']][['ds','yhat']]\n",
        "yreal = train[(train['ds'] >= '2019-07-02') & (train['ds'] <= '2019-07-06')]\n",
        "merged_inner = pd.merge(left=yreal,right=yhat, left_on='ds', right_on='ds')\n",
        "merged_inner"
      ],
      "execution_count": 41,
      "outputs": [
        {
          "output_type": "execute_result",
          "data": {
            "text/html": [
              "<div>\n",
              "<style scoped>\n",
              "    .dataframe tbody tr th:only-of-type {\n",
              "        vertical-align: middle;\n",
              "    }\n",
              "\n",
              "    .dataframe tbody tr th {\n",
              "        vertical-align: top;\n",
              "    }\n",
              "\n",
              "    .dataframe thead th {\n",
              "        text-align: right;\n",
              "    }\n",
              "</style>\n",
              "<table border=\"1\" class=\"dataframe\">\n",
              "  <thead>\n",
              "    <tr style=\"text-align: right;\">\n",
              "      <th></th>\n",
              "      <th>ds</th>\n",
              "      <th>y</th>\n",
              "      <th>yhat</th>\n",
              "    </tr>\n",
              "  </thead>\n",
              "  <tbody>\n",
              "    <tr>\n",
              "      <th>0</th>\n",
              "      <td>2019-07-02</td>\n",
              "      <td>4166.43</td>\n",
              "      <td>4588.856461</td>\n",
              "    </tr>\n",
              "    <tr>\n",
              "      <th>1</th>\n",
              "      <td>2019-07-03</td>\n",
              "      <td>4183.69</td>\n",
              "      <td>4896.683554</td>\n",
              "    </tr>\n",
              "    <tr>\n",
              "      <th>2</th>\n",
              "      <td>2019-07-04</td>\n",
              "      <td>0.00</td>\n",
              "      <td>4536.817629</td>\n",
              "    </tr>\n",
              "    <tr>\n",
              "      <th>3</th>\n",
              "      <td>2019-07-05</td>\n",
              "      <td>3338.40</td>\n",
              "      <td>4703.207599</td>\n",
              "    </tr>\n",
              "    <tr>\n",
              "      <th>4</th>\n",
              "      <td>2019-07-06</td>\n",
              "      <td>1874.83</td>\n",
              "      <td>1782.791439</td>\n",
              "    </tr>\n",
              "  </tbody>\n",
              "</table>\n",
              "</div>"
            ],
            "text/plain": [
              "          ds        y         yhat\n",
              "0 2019-07-02  4166.43  4588.856461\n",
              "1 2019-07-03  4183.69  4896.683554\n",
              "2 2019-07-04     0.00  4536.817629\n",
              "3 2019-07-05  3338.40  4703.207599\n",
              "4 2019-07-06  1874.83  1782.791439"
            ]
          },
          "metadata": {
            "tags": []
          },
          "execution_count": 41
        }
      ]
    },
    {
      "cell_type": "code",
      "metadata": {
        "id": "Q4RCvacAKb3W",
        "colab_type": "code",
        "colab": {
          "base_uri": "https://localhost:8080/",
          "height": 206
        },
        "outputId": "f0d7d3b5-2e48-410d-ef63-643762810dc9"
      },
      "source": [
        "yhat = forecast[(forecast['ds'] >= '2019-11-26') & (forecast['ds'] <= '2019-11-30')][['ds','yhat']][['ds','yhat']]\n",
        "yreal = test[(test['ds'] >= '2019-11-26') & (test['ds'] <= '2019-11-30')]\n",
        "merged_inner = pd.merge(left=yreal,right=yhat, left_on='ds', right_on='ds')\n",
        "merged_inner"
      ],
      "execution_count": 43,
      "outputs": [
        {
          "output_type": "execute_result",
          "data": {
            "text/html": [
              "<div>\n",
              "<style scoped>\n",
              "    .dataframe tbody tr th:only-of-type {\n",
              "        vertical-align: middle;\n",
              "    }\n",
              "\n",
              "    .dataframe tbody tr th {\n",
              "        vertical-align: top;\n",
              "    }\n",
              "\n",
              "    .dataframe thead th {\n",
              "        text-align: right;\n",
              "    }\n",
              "</style>\n",
              "<table border=\"1\" class=\"dataframe\">\n",
              "  <thead>\n",
              "    <tr style=\"text-align: right;\">\n",
              "      <th></th>\n",
              "      <th>ds</th>\n",
              "      <th>y</th>\n",
              "      <th>yhat</th>\n",
              "    </tr>\n",
              "  </thead>\n",
              "  <tbody>\n",
              "    <tr>\n",
              "      <th>0</th>\n",
              "      <td>2019-11-26</td>\n",
              "      <td>7871.19</td>\n",
              "      <td>4774.155721</td>\n",
              "    </tr>\n",
              "    <tr>\n",
              "      <th>1</th>\n",
              "      <td>2019-11-27</td>\n",
              "      <td>6131.85</td>\n",
              "      <td>5123.872308</td>\n",
              "    </tr>\n",
              "    <tr>\n",
              "      <th>2</th>\n",
              "      <td>2019-11-28</td>\n",
              "      <td>0.00</td>\n",
              "      <td>4804.519417</td>\n",
              "    </tr>\n",
              "    <tr>\n",
              "      <th>3</th>\n",
              "      <td>2019-11-29</td>\n",
              "      <td>0.00</td>\n",
              "      <td>5009.095703</td>\n",
              "    </tr>\n",
              "    <tr>\n",
              "      <th>4</th>\n",
              "      <td>2019-11-30</td>\n",
              "      <td>0.00</td>\n",
              "      <td>2123.637565</td>\n",
              "    </tr>\n",
              "  </tbody>\n",
              "</table>\n",
              "</div>"
            ],
            "text/plain": [
              "          ds        y         yhat\n",
              "0 2019-11-26  7871.19  4774.155721\n",
              "1 2019-11-27  6131.85  5123.872308\n",
              "2 2019-11-28     0.00  4804.519417\n",
              "3 2019-11-29     0.00  5009.095703\n",
              "4 2019-11-30     0.00  2123.637565"
            ]
          },
          "metadata": {
            "tags": []
          },
          "execution_count": 43
        }
      ]
    }
  ]
}